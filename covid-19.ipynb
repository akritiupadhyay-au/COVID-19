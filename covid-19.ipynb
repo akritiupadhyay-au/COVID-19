{
 "cells": [
  {
   "cell_type": "markdown",
   "id": "9b607d4f",
   "metadata": {
    "papermill": {
     "duration": 0.013916,
     "end_time": "2022-12-20T09:57:46.800904",
     "exception": false,
     "start_time": "2022-12-20T09:57:46.786988",
     "status": "completed"
    },
    "tags": []
   },
   "source": [
    "Analyzing the trends of Covid-19 "
   ]
  },
  {
   "cell_type": "code",
   "execution_count": 2,
   "id": "fe8d5535",
   "metadata": {
    "execution": {
     "iopub.execute_input": "2022-12-20T09:57:46.827105Z",
     "iopub.status.busy": "2022-12-20T09:57:46.826720Z",
     "iopub.status.idle": "2022-12-20T09:57:47.811318Z",
     "shell.execute_reply": "2022-12-20T09:57:47.810443Z"
    },
    "papermill": {
     "duration": 1.000745,
     "end_time": "2022-12-20T09:57:47.813950",
     "exception": false,
     "start_time": "2022-12-20T09:57:46.813205",
     "status": "completed"
    },
    "tags": []
   },
   "outputs": [],
   "source": [
    "import numpy as np\n",
    "import pandas as pd\n",
    "import matplotlib.pyplot as plt\n",
    "import seaborn as sns"
   ]
  },
  {
   "cell_type": "code",
   "execution_count": 3,
   "id": "e587f89d",
   "metadata": {
    "execution": {
     "iopub.execute_input": "2022-12-20T09:57:47.841011Z",
     "iopub.status.busy": "2022-12-20T09:57:47.840126Z",
     "iopub.status.idle": "2022-12-20T09:57:47.971302Z",
     "shell.execute_reply": "2022-12-20T09:57:47.970157Z"
    },
    "papermill": {
     "duration": 0.147912,
     "end_time": "2022-12-20T09:57:47.974378",
     "exception": false,
     "start_time": "2022-12-20T09:57:47.826466",
     "status": "completed"
    },
    "tags": []
   },
   "outputs": [],
   "source": [
    "data = pd.read_csv('/kaggle/input/corona-virus-report/covid_19_clean_complete.csv')"
   ]
  },
  {
   "cell_type": "code",
   "execution_count": 4,
   "id": "b6794342",
   "metadata": {
    "execution": {
     "iopub.execute_input": "2022-12-20T09:57:48.001917Z",
     "iopub.status.busy": "2022-12-20T09:57:48.001514Z",
     "iopub.status.idle": "2022-12-20T09:57:48.010936Z",
     "shell.execute_reply": "2022-12-20T09:57:48.009749Z"
    },
    "papermill": {
     "duration": 0.026364,
     "end_time": "2022-12-20T09:57:48.013274",
     "exception": false,
     "start_time": "2022-12-20T09:57:47.986910",
     "status": "completed"
    },
    "tags": []
   },
   "outputs": [
    {
     "data": {
      "text/plain": [
       "Index(['Province/State', 'Country/Region', 'Lat', 'Long', 'Date', 'Confirmed',\n",
       "       'Deaths', 'Recovered', 'Active', 'WHO Region'],\n",
       "      dtype='object')"
      ]
     },
     "execution_count": 4,
     "metadata": {},
     "output_type": "execute_result"
    }
   ],
   "source": [
    "data.columns"
   ]
  },
  {
   "cell_type": "code",
   "execution_count": 5,
   "id": "0f4b2729",
   "metadata": {
    "execution": {
     "iopub.execute_input": "2022-12-20T09:57:48.041258Z",
     "iopub.status.busy": "2022-12-20T09:57:48.040157Z",
     "iopub.status.idle": "2022-12-20T09:57:48.067940Z",
     "shell.execute_reply": "2022-12-20T09:57:48.067138Z"
    },
    "papermill": {
     "duration": 0.044439,
     "end_time": "2022-12-20T09:57:48.070295",
     "exception": false,
     "start_time": "2022-12-20T09:57:48.025856",
     "status": "completed"
    },
    "tags": []
   },
   "outputs": [
    {
     "data": {
      "text/html": [
       "<div>\n",
       "<style scoped>\n",
       "    .dataframe tbody tr th:only-of-type {\n",
       "        vertical-align: middle;\n",
       "    }\n",
       "\n",
       "    .dataframe tbody tr th {\n",
       "        vertical-align: top;\n",
       "    }\n",
       "\n",
       "    .dataframe thead th {\n",
       "        text-align: right;\n",
       "    }\n",
       "</style>\n",
       "<table border=\"1\" class=\"dataframe\">\n",
       "  <thead>\n",
       "    <tr style=\"text-align: right;\">\n",
       "      <th></th>\n",
       "      <th>Province/State</th>\n",
       "      <th>Country/Region</th>\n",
       "      <th>Lat</th>\n",
       "      <th>Long</th>\n",
       "      <th>Date</th>\n",
       "      <th>Confirmed</th>\n",
       "      <th>Deaths</th>\n",
       "      <th>Recovered</th>\n",
       "      <th>Active</th>\n",
       "      <th>WHO Region</th>\n",
       "    </tr>\n",
       "  </thead>\n",
       "  <tbody>\n",
       "    <tr>\n",
       "      <th>19384</th>\n",
       "      <td>Qinghai</td>\n",
       "      <td>China</td>\n",
       "      <td>35.745200</td>\n",
       "      <td>95.995600</td>\n",
       "      <td>2020-04-05</td>\n",
       "      <td>18</td>\n",
       "      <td>0</td>\n",
       "      <td>18</td>\n",
       "      <td>0</td>\n",
       "      <td>Western Pacific</td>\n",
       "    </tr>\n",
       "    <tr>\n",
       "      <th>1306</th>\n",
       "      <td>NaN</td>\n",
       "      <td>Albania</td>\n",
       "      <td>41.153300</td>\n",
       "      <td>20.168300</td>\n",
       "      <td>2020-01-27</td>\n",
       "      <td>0</td>\n",
       "      <td>0</td>\n",
       "      <td>0</td>\n",
       "      <td>0</td>\n",
       "      <td>Europe</td>\n",
       "    </tr>\n",
       "    <tr>\n",
       "      <th>23899</th>\n",
       "      <td>NaN</td>\n",
       "      <td>Lithuania</td>\n",
       "      <td>55.169400</td>\n",
       "      <td>23.881300</td>\n",
       "      <td>2020-04-22</td>\n",
       "      <td>1370</td>\n",
       "      <td>38</td>\n",
       "      <td>357</td>\n",
       "      <td>975</td>\n",
       "      <td>Europe</td>\n",
       "    </tr>\n",
       "    <tr>\n",
       "      <th>11935</th>\n",
       "      <td>NaN</td>\n",
       "      <td>Saudi Arabia</td>\n",
       "      <td>23.885942</td>\n",
       "      <td>45.079162</td>\n",
       "      <td>2020-03-07</td>\n",
       "      <td>5</td>\n",
       "      <td>0</td>\n",
       "      <td>0</td>\n",
       "      <td>5</td>\n",
       "      <td>Eastern Mediterranean</td>\n",
       "    </tr>\n",
       "    <tr>\n",
       "      <th>27653</th>\n",
       "      <td>NaN</td>\n",
       "      <td>Botswana</td>\n",
       "      <td>-22.328500</td>\n",
       "      <td>24.684900</td>\n",
       "      <td>2020-05-06</td>\n",
       "      <td>23</td>\n",
       "      <td>1</td>\n",
       "      <td>8</td>\n",
       "      <td>14</td>\n",
       "      <td>Africa</td>\n",
       "    </tr>\n",
       "    <tr>\n",
       "      <th>37166</th>\n",
       "      <td>NaN</td>\n",
       "      <td>Finland</td>\n",
       "      <td>61.924110</td>\n",
       "      <td>25.748151</td>\n",
       "      <td>2020-06-12</td>\n",
       "      <td>7073</td>\n",
       "      <td>325</td>\n",
       "      <td>6200</td>\n",
       "      <td>548</td>\n",
       "      <td>Europe</td>\n",
       "    </tr>\n",
       "    <tr>\n",
       "      <th>48005</th>\n",
       "      <td>Yukon</td>\n",
       "      <td>Canada</td>\n",
       "      <td>64.282300</td>\n",
       "      <td>-135.000000</td>\n",
       "      <td>2020-07-23</td>\n",
       "      <td>13</td>\n",
       "      <td>0</td>\n",
       "      <td>0</td>\n",
       "      <td>13</td>\n",
       "      <td>Americas</td>\n",
       "    </tr>\n",
       "    <tr>\n",
       "      <th>38888</th>\n",
       "      <td>NaN</td>\n",
       "      <td>Lesotho</td>\n",
       "      <td>-29.610000</td>\n",
       "      <td>28.233600</td>\n",
       "      <td>2020-06-18</td>\n",
       "      <td>4</td>\n",
       "      <td>0</td>\n",
       "      <td>2</td>\n",
       "      <td>2</td>\n",
       "      <td>Africa</td>\n",
       "    </tr>\n",
       "    <tr>\n",
       "      <th>39556</th>\n",
       "      <td>NaN</td>\n",
       "      <td>Lebanon</td>\n",
       "      <td>33.854700</td>\n",
       "      <td>35.862300</td>\n",
       "      <td>2020-06-21</td>\n",
       "      <td>1587</td>\n",
       "      <td>32</td>\n",
       "      <td>1068</td>\n",
       "      <td>487</td>\n",
       "      <td>Eastern Mediterranean</td>\n",
       "    </tr>\n",
       "    <tr>\n",
       "      <th>5726</th>\n",
       "      <td>Anguilla</td>\n",
       "      <td>United Kingdom</td>\n",
       "      <td>18.220600</td>\n",
       "      <td>-63.068600</td>\n",
       "      <td>2020-02-12</td>\n",
       "      <td>0</td>\n",
       "      <td>0</td>\n",
       "      <td>0</td>\n",
       "      <td>0</td>\n",
       "      <td>Europe</td>\n",
       "    </tr>\n",
       "  </tbody>\n",
       "</table>\n",
       "</div>"
      ],
      "text/plain": [
       "      Province/State  Country/Region        Lat        Long        Date  \\\n",
       "19384        Qinghai           China  35.745200   95.995600  2020-04-05   \n",
       "1306             NaN         Albania  41.153300   20.168300  2020-01-27   \n",
       "23899            NaN       Lithuania  55.169400   23.881300  2020-04-22   \n",
       "11935            NaN    Saudi Arabia  23.885942   45.079162  2020-03-07   \n",
       "27653            NaN        Botswana -22.328500   24.684900  2020-05-06   \n",
       "37166            NaN         Finland  61.924110   25.748151  2020-06-12   \n",
       "48005          Yukon          Canada  64.282300 -135.000000  2020-07-23   \n",
       "38888            NaN         Lesotho -29.610000   28.233600  2020-06-18   \n",
       "39556            NaN         Lebanon  33.854700   35.862300  2020-06-21   \n",
       "5726        Anguilla  United Kingdom  18.220600  -63.068600  2020-02-12   \n",
       "\n",
       "       Confirmed  Deaths  Recovered  Active             WHO Region  \n",
       "19384         18       0         18       0        Western Pacific  \n",
       "1306           0       0          0       0                 Europe  \n",
       "23899       1370      38        357     975                 Europe  \n",
       "11935          5       0          0       5  Eastern Mediterranean  \n",
       "27653         23       1          8      14                 Africa  \n",
       "37166       7073     325       6200     548                 Europe  \n",
       "48005         13       0          0      13               Americas  \n",
       "38888          4       0          2       2                 Africa  \n",
       "39556       1587      32       1068     487  Eastern Mediterranean  \n",
       "5726           0       0          0       0                 Europe  "
      ]
     },
     "execution_count": 5,
     "metadata": {},
     "output_type": "execute_result"
    }
   ],
   "source": [
    "data.sample(10)"
   ]
  },
  {
   "cell_type": "code",
   "execution_count": 6,
   "id": "b9534270",
   "metadata": {
    "execution": {
     "iopub.execute_input": "2022-12-20T09:57:48.097297Z",
     "iopub.status.busy": "2022-12-20T09:57:48.096605Z",
     "iopub.status.idle": "2022-12-20T09:57:48.103598Z",
     "shell.execute_reply": "2022-12-20T09:57:48.102510Z"
    },
    "papermill": {
     "duration": 0.02282,
     "end_time": "2022-12-20T09:57:48.105747",
     "exception": false,
     "start_time": "2022-12-20T09:57:48.082927",
     "status": "completed"
    },
    "tags": []
   },
   "outputs": [
    {
     "data": {
      "text/plain": [
       "(49068, 10)"
      ]
     },
     "execution_count": 6,
     "metadata": {},
     "output_type": "execute_result"
    }
   ],
   "source": [
    "data.shape"
   ]
  },
  {
   "cell_type": "code",
   "execution_count": 7,
   "id": "dba85621",
   "metadata": {
    "execution": {
     "iopub.execute_input": "2022-12-20T09:57:48.133147Z",
     "iopub.status.busy": "2022-12-20T09:57:48.132350Z",
     "iopub.status.idle": "2022-12-20T09:57:48.156236Z",
     "shell.execute_reply": "2022-12-20T09:57:48.154814Z"
    },
    "papermill": {
     "duration": 0.040556,
     "end_time": "2022-12-20T09:57:48.158986",
     "exception": false,
     "start_time": "2022-12-20T09:57:48.118430",
     "status": "completed"
    },
    "tags": []
   },
   "outputs": [
    {
     "data": {
      "text/plain": [
       "Province/State    34404\n",
       "Country/Region        0\n",
       "Lat                   0\n",
       "Long                  0\n",
       "Date                  0\n",
       "Confirmed             0\n",
       "Deaths                0\n",
       "Recovered             0\n",
       "Active                0\n",
       "WHO Region            0\n",
       "dtype: int64"
      ]
     },
     "execution_count": 7,
     "metadata": {},
     "output_type": "execute_result"
    }
   ],
   "source": [
    "data.isnull().sum()"
   ]
  },
  {
   "cell_type": "markdown",
   "id": "ac70e59c",
   "metadata": {
    "papermill": {
     "duration": 0.013934,
     "end_time": "2022-12-20T09:57:48.186581",
     "exception": false,
     "start_time": "2022-12-20T09:57:48.172647",
     "status": "completed"
    },
    "tags": []
   },
   "source": [
    "There are many null data in Province/State column, and for the analysis, we don't need that. So we will drop this column"
   ]
  },
  {
   "cell_type": "code",
   "execution_count": 8,
   "id": "38f38959",
   "metadata": {
    "execution": {
     "iopub.execute_input": "2022-12-20T09:57:48.214613Z",
     "iopub.status.busy": "2022-12-20T09:57:48.213794Z",
     "iopub.status.idle": "2022-12-20T09:57:48.226598Z",
     "shell.execute_reply": "2022-12-20T09:57:48.225184Z"
    },
    "papermill": {
     "duration": 0.031142,
     "end_time": "2022-12-20T09:57:48.230800",
     "exception": false,
     "start_time": "2022-12-20T09:57:48.199658",
     "status": "completed"
    },
    "tags": []
   },
   "outputs": [],
   "source": [
    "data.drop(['Province/State'],axis=1,inplace=True)"
   ]
  },
  {
   "cell_type": "code",
   "execution_count": 9,
   "id": "eedb9a11",
   "metadata": {
    "execution": {
     "iopub.execute_input": "2022-12-20T09:57:48.259243Z",
     "iopub.status.busy": "2022-12-20T09:57:48.258599Z",
     "iopub.status.idle": "2022-12-20T09:57:48.265720Z",
     "shell.execute_reply": "2022-12-20T09:57:48.264281Z"
    },
    "papermill": {
     "duration": 0.023959,
     "end_time": "2022-12-20T09:57:48.268100",
     "exception": false,
     "start_time": "2022-12-20T09:57:48.244141",
     "status": "completed"
    },
    "tags": []
   },
   "outputs": [
    {
     "data": {
      "text/plain": [
       "Index(['Country/Region', 'Lat', 'Long', 'Date', 'Confirmed', 'Deaths',\n",
       "       'Recovered', 'Active', 'WHO Region'],\n",
       "      dtype='object')"
      ]
     },
     "execution_count": 9,
     "metadata": {},
     "output_type": "execute_result"
    }
   ],
   "source": [
    "data.columns"
   ]
  },
  {
   "cell_type": "code",
   "execution_count": 10,
   "id": "86a720b7",
   "metadata": {
    "execution": {
     "iopub.execute_input": "2022-12-20T09:57:48.296218Z",
     "iopub.status.busy": "2022-12-20T09:57:48.295799Z",
     "iopub.status.idle": "2022-12-20T09:57:48.302377Z",
     "shell.execute_reply": "2022-12-20T09:57:48.301355Z"
    },
    "papermill": {
     "duration": 0.023188,
     "end_time": "2022-12-20T09:57:48.304574",
     "exception": false,
     "start_time": "2022-12-20T09:57:48.281386",
     "status": "completed"
    },
    "tags": []
   },
   "outputs": [
    {
     "data": {
      "text/plain": [
       "(49068, 9)"
      ]
     },
     "execution_count": 10,
     "metadata": {},
     "output_type": "execute_result"
    }
   ],
   "source": [
    "data.shape"
   ]
  },
  {
   "cell_type": "markdown",
   "id": "a723e99f",
   "metadata": {
    "papermill": {
     "duration": 0.012862,
     "end_time": "2022-12-20T09:57:48.330255",
     "exception": false,
     "start_time": "2022-12-20T09:57:48.317393",
     "status": "completed"
    },
    "tags": []
   },
   "source": [
    "As we have to analyse the data according to the date. We have to find the confirmed death according to the date. So we will group Date and Confirmed column."
   ]
  },
  {
   "cell_type": "code",
   "execution_count": 11,
   "id": "b8cfd131",
   "metadata": {
    "execution": {
     "iopub.execute_input": "2022-12-20T09:57:48.357918Z",
     "iopub.status.busy": "2022-12-20T09:57:48.357515Z",
     "iopub.status.idle": "2022-12-20T09:57:48.380373Z",
     "shell.execute_reply": "2022-12-20T09:57:48.379246Z"
    },
    "papermill": {
     "duration": 0.039598,
     "end_time": "2022-12-20T09:57:48.382821",
     "exception": false,
     "start_time": "2022-12-20T09:57:48.343223",
     "status": "completed"
    },
    "tags": []
   },
   "outputs": [
    {
     "data": {
      "text/html": [
       "<div>\n",
       "<style scoped>\n",
       "    .dataframe tbody tr th:only-of-type {\n",
       "        vertical-align: middle;\n",
       "    }\n",
       "\n",
       "    .dataframe tbody tr th {\n",
       "        vertical-align: top;\n",
       "    }\n",
       "\n",
       "    .dataframe thead th {\n",
       "        text-align: right;\n",
       "    }\n",
       "</style>\n",
       "<table border=\"1\" class=\"dataframe\">\n",
       "  <thead>\n",
       "    <tr style=\"text-align: right;\">\n",
       "      <th></th>\n",
       "      <th>Date</th>\n",
       "      <th>Confirmed</th>\n",
       "    </tr>\n",
       "  </thead>\n",
       "  <tbody>\n",
       "    <tr>\n",
       "      <th>183</th>\n",
       "      <td>2020-07-23</td>\n",
       "      <td>15510481</td>\n",
       "    </tr>\n",
       "    <tr>\n",
       "      <th>184</th>\n",
       "      <td>2020-07-24</td>\n",
       "      <td>15791645</td>\n",
       "    </tr>\n",
       "    <tr>\n",
       "      <th>185</th>\n",
       "      <td>2020-07-25</td>\n",
       "      <td>16047190</td>\n",
       "    </tr>\n",
       "    <tr>\n",
       "      <th>186</th>\n",
       "      <td>2020-07-26</td>\n",
       "      <td>16251796</td>\n",
       "    </tr>\n",
       "    <tr>\n",
       "      <th>187</th>\n",
       "      <td>2020-07-27</td>\n",
       "      <td>16480485</td>\n",
       "    </tr>\n",
       "  </tbody>\n",
       "</table>\n",
       "</div>"
      ],
      "text/plain": [
       "           Date  Confirmed\n",
       "183  2020-07-23   15510481\n",
       "184  2020-07-24   15791645\n",
       "185  2020-07-25   16047190\n",
       "186  2020-07-26   16251796\n",
       "187  2020-07-27   16480485"
      ]
     },
     "execution_count": 11,
     "metadata": {},
     "output_type": "execute_result"
    }
   ],
   "source": [
    "data = data.groupby(['Date'])['Confirmed'].sum().reset_index()\n",
    "data.tail()"
   ]
  },
  {
   "cell_type": "code",
   "execution_count": 12,
   "id": "c3608778",
   "metadata": {
    "execution": {
     "iopub.execute_input": "2022-12-20T09:57:48.411617Z",
     "iopub.status.busy": "2022-12-20T09:57:48.410838Z",
     "iopub.status.idle": "2022-12-20T09:57:48.419683Z",
     "shell.execute_reply": "2022-12-20T09:57:48.418792Z"
    },
    "papermill": {
     "duration": 0.025842,
     "end_time": "2022-12-20T09:57:48.421942",
     "exception": false,
     "start_time": "2022-12-20T09:57:48.396100",
     "status": "completed"
    },
    "tags": []
   },
   "outputs": [
    {
     "data": {
      "text/plain": [
       "Date         0\n",
       "Confirmed    0\n",
       "dtype: int64"
      ]
     },
     "execution_count": 12,
     "metadata": {},
     "output_type": "execute_result"
    }
   ],
   "source": [
    "data.isnull().sum()"
   ]
  },
  {
   "cell_type": "code",
   "execution_count": 13,
   "id": "b6d19022",
   "metadata": {
    "execution": {
     "iopub.execute_input": "2022-12-20T09:57:48.450586Z",
     "iopub.status.busy": "2022-12-20T09:57:48.449818Z",
     "iopub.status.idle": "2022-12-20T09:57:48.457901Z",
     "shell.execute_reply": "2022-12-20T09:57:48.457007Z"
    },
    "papermill": {
     "duration": 0.025088,
     "end_time": "2022-12-20T09:57:48.460293",
     "exception": false,
     "start_time": "2022-12-20T09:57:48.435205",
     "status": "completed"
    },
    "tags": []
   },
   "outputs": [],
   "source": [
    "data['Date']=pd.to_datetime(data['Date'])"
   ]
  },
  {
   "cell_type": "code",
   "execution_count": 14,
   "id": "a5262092",
   "metadata": {
    "execution": {
     "iopub.execute_input": "2022-12-20T09:57:48.489363Z",
     "iopub.status.busy": "2022-12-20T09:57:48.488610Z",
     "iopub.status.idle": "2022-12-20T09:57:48.497872Z",
     "shell.execute_reply": "2022-12-20T09:57:48.497091Z"
    },
    "papermill": {
     "duration": 0.025679,
     "end_time": "2022-12-20T09:57:48.499867",
     "exception": false,
     "start_time": "2022-12-20T09:57:48.474188",
     "status": "completed"
    },
    "tags": []
   },
   "outputs": [
    {
     "data": {
      "text/html": [
       "<div>\n",
       "<style scoped>\n",
       "    .dataframe tbody tr th:only-of-type {\n",
       "        vertical-align: middle;\n",
       "    }\n",
       "\n",
       "    .dataframe tbody tr th {\n",
       "        vertical-align: top;\n",
       "    }\n",
       "\n",
       "    .dataframe thead th {\n",
       "        text-align: right;\n",
       "    }\n",
       "</style>\n",
       "<table border=\"1\" class=\"dataframe\">\n",
       "  <thead>\n",
       "    <tr style=\"text-align: right;\">\n",
       "      <th></th>\n",
       "      <th>Date</th>\n",
       "      <th>Confirmed</th>\n",
       "    </tr>\n",
       "  </thead>\n",
       "  <tbody>\n",
       "    <tr>\n",
       "      <th>0</th>\n",
       "      <td>2020-01-22</td>\n",
       "      <td>555</td>\n",
       "    </tr>\n",
       "    <tr>\n",
       "      <th>1</th>\n",
       "      <td>2020-01-23</td>\n",
       "      <td>654</td>\n",
       "    </tr>\n",
       "    <tr>\n",
       "      <th>2</th>\n",
       "      <td>2020-01-24</td>\n",
       "      <td>941</td>\n",
       "    </tr>\n",
       "    <tr>\n",
       "      <th>3</th>\n",
       "      <td>2020-01-25</td>\n",
       "      <td>1434</td>\n",
       "    </tr>\n",
       "    <tr>\n",
       "      <th>4</th>\n",
       "      <td>2020-01-26</td>\n",
       "      <td>2118</td>\n",
       "    </tr>\n",
       "  </tbody>\n",
       "</table>\n",
       "</div>"
      ],
      "text/plain": [
       "        Date  Confirmed\n",
       "0 2020-01-22        555\n",
       "1 2020-01-23        654\n",
       "2 2020-01-24        941\n",
       "3 2020-01-25       1434\n",
       "4 2020-01-26       2118"
      ]
     },
     "execution_count": 14,
     "metadata": {},
     "output_type": "execute_result"
    }
   ],
   "source": [
    "data.head()"
   ]
  },
  {
   "cell_type": "code",
   "execution_count": 15,
   "id": "263b60d4",
   "metadata": {
    "execution": {
     "iopub.execute_input": "2022-12-20T09:57:48.528897Z",
     "iopub.status.busy": "2022-12-20T09:57:48.527996Z",
     "iopub.status.idle": "2022-12-20T09:57:48.534996Z",
     "shell.execute_reply": "2022-12-20T09:57:48.534272Z"
    },
    "papermill": {
     "duration": 0.023479,
     "end_time": "2022-12-20T09:57:48.536884",
     "exception": false,
     "start_time": "2022-12-20T09:57:48.513405",
     "status": "completed"
    },
    "tags": []
   },
   "outputs": [
    {
     "data": {
      "text/plain": [
       "Date         datetime64[ns]\n",
       "Confirmed             int64\n",
       "dtype: object"
      ]
     },
     "execution_count": 15,
     "metadata": {},
     "output_type": "execute_result"
    }
   ],
   "source": [
    "data.dtypes"
   ]
  },
  {
   "cell_type": "code",
   "execution_count": 16,
   "id": "6f4c2682",
   "metadata": {
    "execution": {
     "iopub.execute_input": "2022-12-20T09:57:48.566434Z",
     "iopub.status.busy": "2022-12-20T09:57:48.565709Z",
     "iopub.status.idle": "2022-12-20T09:57:48.570275Z",
     "shell.execute_reply": "2022-12-20T09:57:48.569501Z"
    },
    "papermill": {
     "duration": 0.021668,
     "end_time": "2022-12-20T09:57:48.572267",
     "exception": false,
     "start_time": "2022-12-20T09:57:48.550599",
     "status": "completed"
    },
    "tags": []
   },
   "outputs": [],
   "source": [
    "data_prophet = data.copy()"
   ]
  },
  {
   "cell_type": "code",
   "execution_count": 17,
   "id": "055846a6",
   "metadata": {
    "execution": {
     "iopub.execute_input": "2022-12-20T09:57:48.600975Z",
     "iopub.status.busy": "2022-12-20T09:57:48.600571Z",
     "iopub.status.idle": "2022-12-20T09:57:48.611711Z",
     "shell.execute_reply": "2022-12-20T09:57:48.610656Z"
    },
    "papermill": {
     "duration": 0.028256,
     "end_time": "2022-12-20T09:57:48.614126",
     "exception": false,
     "start_time": "2022-12-20T09:57:48.585870",
     "status": "completed"
    },
    "tags": []
   },
   "outputs": [
    {
     "data": {
      "text/html": [
       "<div>\n",
       "<style scoped>\n",
       "    .dataframe tbody tr th:only-of-type {\n",
       "        vertical-align: middle;\n",
       "    }\n",
       "\n",
       "    .dataframe tbody tr th {\n",
       "        vertical-align: top;\n",
       "    }\n",
       "\n",
       "    .dataframe thead th {\n",
       "        text-align: right;\n",
       "    }\n",
       "</style>\n",
       "<table border=\"1\" class=\"dataframe\">\n",
       "  <thead>\n",
       "    <tr style=\"text-align: right;\">\n",
       "      <th></th>\n",
       "      <th>ds</th>\n",
       "      <th>y</th>\n",
       "    </tr>\n",
       "  </thead>\n",
       "  <tbody>\n",
       "    <tr>\n",
       "      <th>0</th>\n",
       "      <td>2020-01-22</td>\n",
       "      <td>555</td>\n",
       "    </tr>\n",
       "    <tr>\n",
       "      <th>1</th>\n",
       "      <td>2020-01-23</td>\n",
       "      <td>654</td>\n",
       "    </tr>\n",
       "    <tr>\n",
       "      <th>2</th>\n",
       "      <td>2020-01-24</td>\n",
       "      <td>941</td>\n",
       "    </tr>\n",
       "    <tr>\n",
       "      <th>3</th>\n",
       "      <td>2020-01-25</td>\n",
       "      <td>1434</td>\n",
       "    </tr>\n",
       "    <tr>\n",
       "      <th>4</th>\n",
       "      <td>2020-01-26</td>\n",
       "      <td>2118</td>\n",
       "    </tr>\n",
       "  </tbody>\n",
       "</table>\n",
       "</div>"
      ],
      "text/plain": [
       "          ds     y\n",
       "0 2020-01-22   555\n",
       "1 2020-01-23   654\n",
       "2 2020-01-24   941\n",
       "3 2020-01-25  1434\n",
       "4 2020-01-26  2118"
      ]
     },
     "execution_count": 17,
     "metadata": {},
     "output_type": "execute_result"
    }
   ],
   "source": [
    "data_prophet.rename(columns={'Date':'ds','Confirmed':'y'},inplace = True)\n",
    "data_prophet.head()"
   ]
  },
  {
   "cell_type": "code",
   "execution_count": 18,
   "id": "81b0e1c3",
   "metadata": {
    "execution": {
     "iopub.execute_input": "2022-12-20T09:57:48.644286Z",
     "iopub.status.busy": "2022-12-20T09:57:48.643133Z",
     "iopub.status.idle": "2022-12-20T09:57:49.859721Z",
     "shell.execute_reply": "2022-12-20T09:57:49.858686Z"
    },
    "papermill": {
     "duration": 1.234133,
     "end_time": "2022-12-20T09:57:49.862251",
     "exception": false,
     "start_time": "2022-12-20T09:57:48.628118",
     "status": "completed"
    },
    "tags": []
   },
   "outputs": [],
   "source": [
    "from prophet import Prophet\n",
    "m = Prophet()"
   ]
  },
  {
   "cell_type": "code",
   "execution_count": 19,
   "id": "c9f19f23",
   "metadata": {
    "execution": {
     "iopub.execute_input": "2022-12-20T09:57:49.891497Z",
     "iopub.status.busy": "2022-12-20T09:57:49.890830Z",
     "iopub.status.idle": "2022-12-20T09:57:50.051797Z",
     "shell.execute_reply": "2022-12-20T09:57:50.050555Z"
    },
    "papermill": {
     "duration": 0.178617,
     "end_time": "2022-12-20T09:57:50.054641",
     "exception": false,
     "start_time": "2022-12-20T09:57:49.876024",
     "status": "completed"
    },
    "tags": []
   },
   "outputs": [
    {
     "name": "stderr",
     "output_type": "stream",
     "text": [
      "09:57:49 - cmdstanpy - INFO - Chain [1] start processing\n",
      "09:57:50 - cmdstanpy - INFO - Chain [1] done processing\n"
     ]
    }
   ],
   "source": [
    "model = m.fit(data_prophet)"
   ]
  },
  {
   "cell_type": "code",
   "execution_count": 20,
   "id": "9f1a9b91",
   "metadata": {
    "execution": {
     "iopub.execute_input": "2022-12-20T09:57:50.088704Z",
     "iopub.status.busy": "2022-12-20T09:57:50.087651Z",
     "iopub.status.idle": "2022-12-20T09:57:50.096927Z",
     "shell.execute_reply": "2022-12-20T09:57:50.095851Z"
    },
    "papermill": {
     "duration": 0.029299,
     "end_time": "2022-12-20T09:57:50.099130",
     "exception": false,
     "start_time": "2022-12-20T09:57:50.069831",
     "status": "completed"
    },
    "tags": []
   },
   "outputs": [
    {
     "data": {
      "text/plain": [
       "OrderedDict([('weekly',\n",
       "              {'period': 7,\n",
       "               'fourier_order': 3,\n",
       "               'prior_scale': 10.0,\n",
       "               'mode': 'additive',\n",
       "               'condition_name': None})])"
      ]
     },
     "execution_count": 20,
     "metadata": {},
     "output_type": "execute_result"
    }
   ],
   "source": [
    "m.seasonalities"
   ]
  },
  {
   "cell_type": "code",
   "execution_count": 21,
   "id": "0ac56a27",
   "metadata": {
    "execution": {
     "iopub.execute_input": "2022-12-20T09:57:50.130696Z",
     "iopub.status.busy": "2022-12-20T09:57:50.129776Z",
     "iopub.status.idle": "2022-12-20T09:57:50.139398Z",
     "shell.execute_reply": "2022-12-20T09:57:50.138527Z"
    },
    "papermill": {
     "duration": 0.027806,
     "end_time": "2022-12-20T09:57:50.141587",
     "exception": false,
     "start_time": "2022-12-20T09:57:50.113781",
     "status": "completed"
    },
    "tags": []
   },
   "outputs": [],
   "source": [
    "future = model.make_future_dataframe(periods=30,freq='D')"
   ]
  },
  {
   "cell_type": "code",
   "execution_count": 22,
   "id": "2083e066",
   "metadata": {
    "execution": {
     "iopub.execute_input": "2022-12-20T09:57:50.173963Z",
     "iopub.status.busy": "2022-12-20T09:57:50.172741Z",
     "iopub.status.idle": "2022-12-20T09:57:50.184481Z",
     "shell.execute_reply": "2022-12-20T09:57:50.183418Z"
    },
    "papermill": {
     "duration": 0.03043,
     "end_time": "2022-12-20T09:57:50.186732",
     "exception": false,
     "start_time": "2022-12-20T09:57:50.156302",
     "status": "completed"
    },
    "tags": []
   },
   "outputs": [
    {
     "data": {
      "text/html": [
       "<div>\n",
       "<style scoped>\n",
       "    .dataframe tbody tr th:only-of-type {\n",
       "        vertical-align: middle;\n",
       "    }\n",
       "\n",
       "    .dataframe tbody tr th {\n",
       "        vertical-align: top;\n",
       "    }\n",
       "\n",
       "    .dataframe thead th {\n",
       "        text-align: right;\n",
       "    }\n",
       "</style>\n",
       "<table border=\"1\" class=\"dataframe\">\n",
       "  <thead>\n",
       "    <tr style=\"text-align: right;\">\n",
       "      <th></th>\n",
       "      <th>ds</th>\n",
       "    </tr>\n",
       "  </thead>\n",
       "  <tbody>\n",
       "    <tr>\n",
       "      <th>0</th>\n",
       "      <td>2020-01-22</td>\n",
       "    </tr>\n",
       "    <tr>\n",
       "      <th>1</th>\n",
       "      <td>2020-01-23</td>\n",
       "    </tr>\n",
       "    <tr>\n",
       "      <th>2</th>\n",
       "      <td>2020-01-24</td>\n",
       "    </tr>\n",
       "    <tr>\n",
       "      <th>3</th>\n",
       "      <td>2020-01-25</td>\n",
       "    </tr>\n",
       "    <tr>\n",
       "      <th>4</th>\n",
       "      <td>2020-01-26</td>\n",
       "    </tr>\n",
       "  </tbody>\n",
       "</table>\n",
       "</div>"
      ],
      "text/plain": [
       "          ds\n",
       "0 2020-01-22\n",
       "1 2020-01-23\n",
       "2 2020-01-24\n",
       "3 2020-01-25\n",
       "4 2020-01-26"
      ]
     },
     "execution_count": 22,
     "metadata": {},
     "output_type": "execute_result"
    }
   ],
   "source": [
    "future.head()"
   ]
  },
  {
   "cell_type": "code",
   "execution_count": 23,
   "id": "09934b1d",
   "metadata": {
    "execution": {
     "iopub.execute_input": "2022-12-20T09:57:50.217929Z",
     "iopub.status.busy": "2022-12-20T09:57:50.217297Z",
     "iopub.status.idle": "2022-12-20T09:57:50.930136Z",
     "shell.execute_reply": "2022-12-20T09:57:50.928977Z"
    },
    "papermill": {
     "duration": 0.731606,
     "end_time": "2022-12-20T09:57:50.933034",
     "exception": false,
     "start_time": "2022-12-20T09:57:50.201428",
     "status": "completed"
    },
    "tags": []
   },
   "outputs": [],
   "source": [
    "prediction = model.predict(future)"
   ]
  },
  {
   "cell_type": "code",
   "execution_count": 24,
   "id": "64931470",
   "metadata": {
    "execution": {
     "iopub.execute_input": "2022-12-20T09:57:50.963917Z",
     "iopub.status.busy": "2022-12-20T09:57:50.963511Z",
     "iopub.status.idle": "2022-12-20T09:57:50.994981Z",
     "shell.execute_reply": "2022-12-20T09:57:50.993988Z"
    },
    "papermill": {
     "duration": 0.049809,
     "end_time": "2022-12-20T09:57:50.997421",
     "exception": false,
     "start_time": "2022-12-20T09:57:50.947612",
     "status": "completed"
    },
    "tags": []
   },
   "outputs": [
    {
     "data": {
      "text/html": [
       "<div>\n",
       "<style scoped>\n",
       "    .dataframe tbody tr th:only-of-type {\n",
       "        vertical-align: middle;\n",
       "    }\n",
       "\n",
       "    .dataframe tbody tr th {\n",
       "        vertical-align: top;\n",
       "    }\n",
       "\n",
       "    .dataframe thead th {\n",
       "        text-align: right;\n",
       "    }\n",
       "</style>\n",
       "<table border=\"1\" class=\"dataframe\">\n",
       "  <thead>\n",
       "    <tr style=\"text-align: right;\">\n",
       "      <th></th>\n",
       "      <th>ds</th>\n",
       "      <th>trend</th>\n",
       "      <th>yhat_lower</th>\n",
       "      <th>yhat_upper</th>\n",
       "      <th>trend_lower</th>\n",
       "      <th>trend_upper</th>\n",
       "      <th>additive_terms</th>\n",
       "      <th>additive_terms_lower</th>\n",
       "      <th>additive_terms_upper</th>\n",
       "      <th>weekly</th>\n",
       "      <th>weekly_lower</th>\n",
       "      <th>weekly_upper</th>\n",
       "      <th>multiplicative_terms</th>\n",
       "      <th>multiplicative_terms_lower</th>\n",
       "      <th>multiplicative_terms_upper</th>\n",
       "      <th>yhat</th>\n",
       "    </tr>\n",
       "  </thead>\n",
       "  <tbody>\n",
       "    <tr>\n",
       "      <th>0</th>\n",
       "      <td>2020-01-22</td>\n",
       "      <td>-9.777905e+03</td>\n",
       "      <td>-1.199838e+05</td>\n",
       "      <td>9.209792e+04</td>\n",
       "      <td>-9.777905e+03</td>\n",
       "      <td>-9.777905e+03</td>\n",
       "      <td>-10998.184272</td>\n",
       "      <td>-10998.184272</td>\n",
       "      <td>-10998.184272</td>\n",
       "      <td>-10998.184272</td>\n",
       "      <td>-10998.184272</td>\n",
       "      <td>-10998.184272</td>\n",
       "      <td>0.0</td>\n",
       "      <td>0.0</td>\n",
       "      <td>0.0</td>\n",
       "      <td>-2.077609e+04</td>\n",
       "    </tr>\n",
       "    <tr>\n",
       "      <th>1</th>\n",
       "      <td>2020-01-23</td>\n",
       "      <td>-7.055743e+03</td>\n",
       "      <td>-1.116267e+05</td>\n",
       "      <td>9.880935e+04</td>\n",
       "      <td>-7.055743e+03</td>\n",
       "      <td>-7.055743e+03</td>\n",
       "      <td>-1105.731772</td>\n",
       "      <td>-1105.731772</td>\n",
       "      <td>-1105.731772</td>\n",
       "      <td>-1105.731772</td>\n",
       "      <td>-1105.731772</td>\n",
       "      <td>-1105.731772</td>\n",
       "      <td>0.0</td>\n",
       "      <td>0.0</td>\n",
       "      <td>0.0</td>\n",
       "      <td>-8.161475e+03</td>\n",
       "    </tr>\n",
       "    <tr>\n",
       "      <th>2</th>\n",
       "      <td>2020-01-24</td>\n",
       "      <td>-4.333581e+03</td>\n",
       "      <td>-1.009354e+05</td>\n",
       "      <td>1.115896e+05</td>\n",
       "      <td>-4.333581e+03</td>\n",
       "      <td>-4.333581e+03</td>\n",
       "      <td>10049.827496</td>\n",
       "      <td>10049.827496</td>\n",
       "      <td>10049.827496</td>\n",
       "      <td>10049.827496</td>\n",
       "      <td>10049.827496</td>\n",
       "      <td>10049.827496</td>\n",
       "      <td>0.0</td>\n",
       "      <td>0.0</td>\n",
       "      <td>0.0</td>\n",
       "      <td>5.716247e+03</td>\n",
       "    </tr>\n",
       "    <tr>\n",
       "      <th>3</th>\n",
       "      <td>2020-01-25</td>\n",
       "      <td>-1.611419e+03</td>\n",
       "      <td>-9.265586e+04</td>\n",
       "      <td>1.205651e+05</td>\n",
       "      <td>-1.611419e+03</td>\n",
       "      <td>-1.611419e+03</td>\n",
       "      <td>13740.639044</td>\n",
       "      <td>13740.639044</td>\n",
       "      <td>13740.639044</td>\n",
       "      <td>13740.639044</td>\n",
       "      <td>13740.639044</td>\n",
       "      <td>13740.639044</td>\n",
       "      <td>0.0</td>\n",
       "      <td>0.0</td>\n",
       "      <td>0.0</td>\n",
       "      <td>1.212922e+04</td>\n",
       "    </tr>\n",
       "    <tr>\n",
       "      <th>4</th>\n",
       "      <td>2020-01-26</td>\n",
       "      <td>1.110743e+03</td>\n",
       "      <td>-9.296266e+04</td>\n",
       "      <td>1.141657e+05</td>\n",
       "      <td>1.110743e+03</td>\n",
       "      <td>1.110743e+03</td>\n",
       "      <td>7254.883671</td>\n",
       "      <td>7254.883671</td>\n",
       "      <td>7254.883671</td>\n",
       "      <td>7254.883671</td>\n",
       "      <td>7254.883671</td>\n",
       "      <td>7254.883671</td>\n",
       "      <td>0.0</td>\n",
       "      <td>0.0</td>\n",
       "      <td>0.0</td>\n",
       "      <td>8.365627e+03</td>\n",
       "    </tr>\n",
       "    <tr>\n",
       "      <th>...</th>\n",
       "      <td>...</td>\n",
       "      <td>...</td>\n",
       "      <td>...</td>\n",
       "      <td>...</td>\n",
       "      <td>...</td>\n",
       "      <td>...</td>\n",
       "      <td>...</td>\n",
       "      <td>...</td>\n",
       "      <td>...</td>\n",
       "      <td>...</td>\n",
       "      <td>...</td>\n",
       "      <td>...</td>\n",
       "      <td>...</td>\n",
       "      <td>...</td>\n",
       "      <td>...</td>\n",
       "      <td>...</td>\n",
       "    </tr>\n",
       "    <tr>\n",
       "      <th>213</th>\n",
       "      <td>2020-08-22</td>\n",
       "      <td>2.143975e+07</td>\n",
       "      <td>2.105226e+07</td>\n",
       "      <td>2.180015e+07</td>\n",
       "      <td>2.105396e+07</td>\n",
       "      <td>2.180806e+07</td>\n",
       "      <td>13740.639044</td>\n",
       "      <td>13740.639044</td>\n",
       "      <td>13740.639044</td>\n",
       "      <td>13740.639044</td>\n",
       "      <td>13740.639044</td>\n",
       "      <td>13740.639044</td>\n",
       "      <td>0.0</td>\n",
       "      <td>0.0</td>\n",
       "      <td>0.0</td>\n",
       "      <td>2.145349e+07</td>\n",
       "    </tr>\n",
       "    <tr>\n",
       "      <th>214</th>\n",
       "      <td>2020-08-23</td>\n",
       "      <td>2.164381e+07</td>\n",
       "      <td>2.123374e+07</td>\n",
       "      <td>2.204494e+07</td>\n",
       "      <td>2.123620e+07</td>\n",
       "      <td>2.202927e+07</td>\n",
       "      <td>7254.883671</td>\n",
       "      <td>7254.883671</td>\n",
       "      <td>7254.883671</td>\n",
       "      <td>7254.883671</td>\n",
       "      <td>7254.883671</td>\n",
       "      <td>7254.883671</td>\n",
       "      <td>0.0</td>\n",
       "      <td>0.0</td>\n",
       "      <td>0.0</td>\n",
       "      <td>2.165106e+07</td>\n",
       "    </tr>\n",
       "    <tr>\n",
       "      <th>215</th>\n",
       "      <td>2020-08-24</td>\n",
       "      <td>2.184787e+07</td>\n",
       "      <td>2.136825e+07</td>\n",
       "      <td>2.229444e+07</td>\n",
       "      <td>2.141450e+07</td>\n",
       "      <td>2.225765e+07</td>\n",
       "      <td>-2145.781007</td>\n",
       "      <td>-2145.781007</td>\n",
       "      <td>-2145.781007</td>\n",
       "      <td>-2145.781007</td>\n",
       "      <td>-2145.781007</td>\n",
       "      <td>-2145.781007</td>\n",
       "      <td>0.0</td>\n",
       "      <td>0.0</td>\n",
       "      <td>0.0</td>\n",
       "      <td>2.184572e+07</td>\n",
       "    </tr>\n",
       "    <tr>\n",
       "      <th>216</th>\n",
       "      <td>2020-08-25</td>\n",
       "      <td>2.205193e+07</td>\n",
       "      <td>2.157960e+07</td>\n",
       "      <td>2.249848e+07</td>\n",
       "      <td>2.159106e+07</td>\n",
       "      <td>2.248205e+07</td>\n",
       "      <td>-16795.653159</td>\n",
       "      <td>-16795.653159</td>\n",
       "      <td>-16795.653159</td>\n",
       "      <td>-16795.653159</td>\n",
       "      <td>-16795.653159</td>\n",
       "      <td>-16795.653159</td>\n",
       "      <td>0.0</td>\n",
       "      <td>0.0</td>\n",
       "      <td>0.0</td>\n",
       "      <td>2.203513e+07</td>\n",
       "    </tr>\n",
       "    <tr>\n",
       "      <th>217</th>\n",
       "      <td>2020-08-26</td>\n",
       "      <td>2.225599e+07</td>\n",
       "      <td>2.175380e+07</td>\n",
       "      <td>2.269076e+07</td>\n",
       "      <td>2.177891e+07</td>\n",
       "      <td>2.271402e+07</td>\n",
       "      <td>-10998.184272</td>\n",
       "      <td>-10998.184272</td>\n",
       "      <td>-10998.184272</td>\n",
       "      <td>-10998.184272</td>\n",
       "      <td>-10998.184272</td>\n",
       "      <td>-10998.184272</td>\n",
       "      <td>0.0</td>\n",
       "      <td>0.0</td>\n",
       "      <td>0.0</td>\n",
       "      <td>2.224499e+07</td>\n",
       "    </tr>\n",
       "  </tbody>\n",
       "</table>\n",
       "<p>218 rows × 16 columns</p>\n",
       "</div>"
      ],
      "text/plain": [
       "            ds         trend    yhat_lower    yhat_upper   trend_lower  \\\n",
       "0   2020-01-22 -9.777905e+03 -1.199838e+05  9.209792e+04 -9.777905e+03   \n",
       "1   2020-01-23 -7.055743e+03 -1.116267e+05  9.880935e+04 -7.055743e+03   \n",
       "2   2020-01-24 -4.333581e+03 -1.009354e+05  1.115896e+05 -4.333581e+03   \n",
       "3   2020-01-25 -1.611419e+03 -9.265586e+04  1.205651e+05 -1.611419e+03   \n",
       "4   2020-01-26  1.110743e+03 -9.296266e+04  1.141657e+05  1.110743e+03   \n",
       "..         ...           ...           ...           ...           ...   \n",
       "213 2020-08-22  2.143975e+07  2.105226e+07  2.180015e+07  2.105396e+07   \n",
       "214 2020-08-23  2.164381e+07  2.123374e+07  2.204494e+07  2.123620e+07   \n",
       "215 2020-08-24  2.184787e+07  2.136825e+07  2.229444e+07  2.141450e+07   \n",
       "216 2020-08-25  2.205193e+07  2.157960e+07  2.249848e+07  2.159106e+07   \n",
       "217 2020-08-26  2.225599e+07  2.175380e+07  2.269076e+07  2.177891e+07   \n",
       "\n",
       "      trend_upper  additive_terms  additive_terms_lower  additive_terms_upper  \\\n",
       "0   -9.777905e+03   -10998.184272         -10998.184272         -10998.184272   \n",
       "1   -7.055743e+03    -1105.731772          -1105.731772          -1105.731772   \n",
       "2   -4.333581e+03    10049.827496          10049.827496          10049.827496   \n",
       "3   -1.611419e+03    13740.639044          13740.639044          13740.639044   \n",
       "4    1.110743e+03     7254.883671           7254.883671           7254.883671   \n",
       "..            ...             ...                   ...                   ...   \n",
       "213  2.180806e+07    13740.639044          13740.639044          13740.639044   \n",
       "214  2.202927e+07     7254.883671           7254.883671           7254.883671   \n",
       "215  2.225765e+07    -2145.781007          -2145.781007          -2145.781007   \n",
       "216  2.248205e+07   -16795.653159         -16795.653159         -16795.653159   \n",
       "217  2.271402e+07   -10998.184272         -10998.184272         -10998.184272   \n",
       "\n",
       "           weekly  weekly_lower  weekly_upper  multiplicative_terms  \\\n",
       "0   -10998.184272 -10998.184272 -10998.184272                   0.0   \n",
       "1    -1105.731772  -1105.731772  -1105.731772                   0.0   \n",
       "2    10049.827496  10049.827496  10049.827496                   0.0   \n",
       "3    13740.639044  13740.639044  13740.639044                   0.0   \n",
       "4     7254.883671   7254.883671   7254.883671                   0.0   \n",
       "..            ...           ...           ...                   ...   \n",
       "213  13740.639044  13740.639044  13740.639044                   0.0   \n",
       "214   7254.883671   7254.883671   7254.883671                   0.0   \n",
       "215  -2145.781007  -2145.781007  -2145.781007                   0.0   \n",
       "216 -16795.653159 -16795.653159 -16795.653159                   0.0   \n",
       "217 -10998.184272 -10998.184272 -10998.184272                   0.0   \n",
       "\n",
       "     multiplicative_terms_lower  multiplicative_terms_upper          yhat  \n",
       "0                           0.0                         0.0 -2.077609e+04  \n",
       "1                           0.0                         0.0 -8.161475e+03  \n",
       "2                           0.0                         0.0  5.716247e+03  \n",
       "3                           0.0                         0.0  1.212922e+04  \n",
       "4                           0.0                         0.0  8.365627e+03  \n",
       "..                          ...                         ...           ...  \n",
       "213                         0.0                         0.0  2.145349e+07  \n",
       "214                         0.0                         0.0  2.165106e+07  \n",
       "215                         0.0                         0.0  2.184572e+07  \n",
       "216                         0.0                         0.0  2.203513e+07  \n",
       "217                         0.0                         0.0  2.224499e+07  \n",
       "\n",
       "[218 rows x 16 columns]"
      ]
     },
     "execution_count": 24,
     "metadata": {},
     "output_type": "execute_result"
    }
   ],
   "source": [
    "prediction"
   ]
  },
  {
   "cell_type": "code",
   "execution_count": 25,
   "id": "5d3bfe5b",
   "metadata": {
    "execution": {
     "iopub.execute_input": "2022-12-20T09:57:51.030802Z",
     "iopub.status.busy": "2022-12-20T09:57:51.030103Z",
     "iopub.status.idle": "2022-12-20T09:57:51.522676Z",
     "shell.execute_reply": "2022-12-20T09:57:51.521429Z"
    },
    "papermill": {
     "duration": 0.512082,
     "end_time": "2022-12-20T09:57:51.525125",
     "exception": false,
     "start_time": "2022-12-20T09:57:51.013043",
     "status": "completed"
    },
    "tags": []
   },
   "outputs": [
    {
     "data": {
      "image/png": "[encoded data removed]",
      "text/plain": [
       "<Figure size 720x432 with 1 Axes>"
      ]
     },
     "execution_count": 25,
     "metadata": {},
     "output_type": "execute_result"
    },
    {
     "data": {
      "image/png": "[encoded data removed]",
      "text/plain": [
       "<Figure size 720x432 with 1 Axes>"
      ]
     },
     "metadata": {},
     "output_type": "display_data"
    }
   ],
   "source": [
    "model.plot(prediction)"
   ]
  },
  {
   "cell_type": "code",
   "execution_count": 26,
   "id": "06493087",
   "metadata": {
    "execution": {
     "iopub.execute_input": "2022-12-20T09:57:51.558962Z",
     "iopub.status.busy": "2022-12-20T09:57:51.558454Z",
     "iopub.status.idle": "2022-12-20T09:57:52.328391Z",
     "shell.execute_reply": "2022-12-20T09:57:52.327072Z"
    },
    "papermill": {
     "duration": 0.789792,
     "end_time": "2022-12-20T09:57:52.330884",
     "exception": false,
     "start_time": "2022-12-20T09:57:51.541092",
     "status": "completed"
    },
    "tags": []
   },
   "outputs": [
    {
     "data": {
      "image/png": "[encoded data removed]",
      "text/plain": [
       "<Figure size 648x432 with 2 Axes>"
      ]
     },
     "execution_count": 26,
     "metadata": {},
     "output_type": "execute_result"
    },
    {
     "data": {
      "image/png": "[encoded data removed]",
      "text/plain": [
       "<Figure size 648x432 with 2 Axes>"
      ]
     },
     "metadata": {},
     "output_type": "display_data"
    }
   ],
   "source": [
    "model.plot_components(prediction)"
   ]
  },
  {
   "cell_type": "code",
   "execution_count": 27,
   "id": "7f12e818",
   "metadata": {
    "execution": {
     "iopub.execute_input": "2022-12-20T09:57:52.369412Z",
     "iopub.status.busy": "2022-12-20T09:57:52.368687Z",
     "iopub.status.idle": "2022-12-20T09:57:56.369021Z",
     "shell.execute_reply": "2022-12-20T09:57:56.367911Z"
    },
    "papermill": {
     "duration": 4.021672,
     "end_time": "2022-12-20T09:57:56.371287",
     "exception": false,
     "start_time": "2022-12-20T09:57:52.349615",
     "status": "completed"
    },
    "tags": []
   },
   "outputs": [
    {
     "data": {
      "application/vnd.jupyter.widget-view+json": {
       "model_id": "f191bd341e2a41158a44c7a363b94643",
       "version_major": 2,
       "version_minor": 0
      },
      "text/plain": [
       "  0%|          | 0/5 [00:00<?, ?it/s]"
      ]
     },
     "metadata": {},
     "output_type": "display_data"
    },
    {
     "name": "stderr",
     "output_type": "stream",
     "text": [
      "09:57:52 - cmdstanpy - INFO - Chain [1] start processing\n",
      "09:57:53 - cmdstanpy - INFO - Chain [1] done processing\n",
      "09:57:53 - cmdstanpy - INFO - Chain [1] start processing\n",
      "09:57:53 - cmdstanpy - INFO - Chain [1] done processing\n",
      "09:57:54 - cmdstanpy - INFO - Chain [1] start processing\n",
      "09:57:54 - cmdstanpy - INFO - Chain [1] done processing\n",
      "09:57:54 - cmdstanpy - INFO - Chain [1] start processing\n",
      "09:57:55 - cmdstanpy - INFO - Chain [1] done processing\n",
      "09:57:55 - cmdstanpy - INFO - Chain [1] start processing\n",
      "09:57:55 - cmdstanpy - INFO - Chain [1] done processing\n"
     ]
    }
   ],
   "source": [
    "from prophet.diagnostics import cross_validation\n",
    "data_cv = cross_validation(model,horizon='30 days',period='15 days',initial='90 days')"
   ]
  },
  {
   "cell_type": "code",
   "execution_count": 28,
   "id": "7d5122d7",
   "metadata": {
    "execution": {
     "iopub.execute_input": "2022-12-20T09:57:56.415010Z",
     "iopub.status.busy": "2022-12-20T09:57:56.413159Z",
     "iopub.status.idle": "2022-12-20T09:57:56.432448Z",
     "shell.execute_reply": "2022-12-20T09:57:56.431570Z"
    },
    "papermill": {
     "duration": 0.046855,
     "end_time": "2022-12-20T09:57:56.435947",
     "exception": false,
     "start_time": "2022-12-20T09:57:56.389092",
     "status": "completed"
    },
    "tags": []
   },
   "outputs": [
    {
     "data": {
      "text/html": [
       "<div>\n",
       "<style scoped>\n",
       "    .dataframe tbody tr th:only-of-type {\n",
       "        vertical-align: middle;\n",
       "    }\n",
       "\n",
       "    .dataframe tbody tr th {\n",
       "        vertical-align: top;\n",
       "    }\n",
       "\n",
       "    .dataframe thead th {\n",
       "        text-align: right;\n",
       "    }\n",
       "</style>\n",
       "<table border=\"1\" class=\"dataframe\">\n",
       "  <thead>\n",
       "    <tr style=\"text-align: right;\">\n",
       "      <th></th>\n",
       "      <th>ds</th>\n",
       "      <th>yhat</th>\n",
       "      <th>yhat_lower</th>\n",
       "      <th>yhat_upper</th>\n",
       "      <th>y</th>\n",
       "      <th>cutoff</th>\n",
       "    </tr>\n",
       "  </thead>\n",
       "  <tbody>\n",
       "    <tr>\n",
       "      <th>0</th>\n",
       "      <td>2020-04-29</td>\n",
       "      <td>3.201065e+06</td>\n",
       "      <td>3.196096e+06</td>\n",
       "      <td>3.206538e+06</td>\n",
       "      <td>3185195</td>\n",
       "      <td>2020-04-28</td>\n",
       "    </tr>\n",
       "    <tr>\n",
       "      <th>1</th>\n",
       "      <td>2020-04-30</td>\n",
       "      <td>3.285434e+06</td>\n",
       "      <td>3.279212e+06</td>\n",
       "      <td>3.291778e+06</td>\n",
       "      <td>3268876</td>\n",
       "      <td>2020-04-28</td>\n",
       "    </tr>\n",
       "    <tr>\n",
       "      <th>2</th>\n",
       "      <td>2020-05-01</td>\n",
       "      <td>3.369641e+06</td>\n",
       "      <td>3.361086e+06</td>\n",
       "      <td>3.377634e+06</td>\n",
       "      <td>3355922</td>\n",
       "      <td>2020-04-28</td>\n",
       "    </tr>\n",
       "    <tr>\n",
       "      <th>3</th>\n",
       "      <td>2020-05-02</td>\n",
       "      <td>3.450903e+06</td>\n",
       "      <td>3.439005e+06</td>\n",
       "      <td>3.461956e+06</td>\n",
       "      <td>3437608</td>\n",
       "      <td>2020-04-28</td>\n",
       "    </tr>\n",
       "    <tr>\n",
       "      <th>4</th>\n",
       "      <td>2020-05-03</td>\n",
       "      <td>3.530367e+06</td>\n",
       "      <td>3.512473e+06</td>\n",
       "      <td>3.546783e+06</td>\n",
       "      <td>3515244</td>\n",
       "      <td>2020-04-28</td>\n",
       "    </tr>\n",
       "  </tbody>\n",
       "</table>\n",
       "</div>"
      ],
      "text/plain": [
       "          ds          yhat    yhat_lower    yhat_upper        y     cutoff\n",
       "0 2020-04-29  3.201065e+06  3.196096e+06  3.206538e+06  3185195 2020-04-28\n",
       "1 2020-04-30  3.285434e+06  3.279212e+06  3.291778e+06  3268876 2020-04-28\n",
       "2 2020-05-01  3.369641e+06  3.361086e+06  3.377634e+06  3355922 2020-04-28\n",
       "3 2020-05-02  3.450903e+06  3.439005e+06  3.461956e+06  3437608 2020-04-28\n",
       "4 2020-05-03  3.530367e+06  3.512473e+06  3.546783e+06  3515244 2020-04-28"
      ]
     },
     "execution_count": 28,
     "metadata": {},
     "output_type": "execute_result"
    }
   ],
   "source": [
    "data_cv.head()"
   ]
  },
  {
   "cell_type": "code",
   "execution_count": 29,
   "id": "5f15a01f",
   "metadata": {
    "execution": {
     "iopub.execute_input": "2022-12-20T09:57:56.481893Z",
     "iopub.status.busy": "2022-12-20T09:57:56.481192Z",
     "iopub.status.idle": "2022-12-20T09:57:56.887492Z",
     "shell.execute_reply": "2022-12-20T09:57:56.886328Z"
    },
    "papermill": {
     "duration": 0.431435,
     "end_time": "2022-12-20T09:57:56.890661",
     "exception": false,
     "start_time": "2022-12-20T09:57:56.459226",
     "status": "completed"
    },
    "tags": []
   },
   "outputs": [
    {
     "data": {
      "image/png": "[encoded data removed]",
      "text/plain": [
       "<Figure size 720x432 with 1 Axes>"
      ]
     },
     "metadata": {},
     "output_type": "display_data"
    }
   ],
   "source": [
    "from prophet.plot import add_changepoints_to_plot\n",
    "fig = model.plot(prediction)\n",
    "a = add_changepoints_to_plot(fig.gca(),model,prediction)"
   ]
  },
  {
   "cell_type": "code",
   "execution_count": 30,
   "id": "605bd6fe",
   "metadata": {
    "execution": {
     "iopub.execute_input": "2022-12-20T09:57:56.934665Z",
     "iopub.status.busy": "2022-12-20T09:57:56.934162Z",
     "iopub.status.idle": "2022-12-20T09:57:57.064000Z",
     "shell.execute_reply": "2022-12-20T09:57:57.062857Z"
    },
    "papermill": {
     "duration": 0.152717,
     "end_time": "2022-12-20T09:57:57.066448",
     "exception": false,
     "start_time": "2022-12-20T09:57:56.913731",
     "status": "completed"
    },
    "tags": []
   },
   "outputs": [
    {
     "data": {
      "text/html": [
       "<div>\n",
       "<style scoped>\n",
       "    .dataframe tbody tr th:only-of-type {\n",
       "        vertical-align: middle;\n",
       "    }\n",
       "\n",
       "    .dataframe tbody tr th {\n",
       "        vertical-align: top;\n",
       "    }\n",
       "\n",
       "    .dataframe thead th {\n",
       "        text-align: right;\n",
       "    }\n",
       "</style>\n",
       "<table border=\"1\" class=\"dataframe\">\n",
       "  <thead>\n",
       "    <tr style=\"text-align: right;\">\n",
       "      <th></th>\n",
       "      <th>horizon</th>\n",
       "      <th>mse</th>\n",
       "      <th>rmse</th>\n",
       "      <th>mae</th>\n",
       "      <th>mape</th>\n",
       "      <th>mdape</th>\n",
       "      <th>smape</th>\n",
       "      <th>coverage</th>\n",
       "    </tr>\n",
       "  </thead>\n",
       "  <tbody>\n",
       "    <tr>\n",
       "      <th>0</th>\n",
       "      <td>3 days</td>\n",
       "      <td>2.746449e+10</td>\n",
       "      <td>165724.139309</td>\n",
       "      <td>129605.276177</td>\n",
       "      <td>0.016907</td>\n",
       "      <td>0.017703</td>\n",
       "      <td>0.017090</td>\n",
       "      <td>0.000000</td>\n",
       "    </tr>\n",
       "    <tr>\n",
       "      <th>1</th>\n",
       "      <td>4 days</td>\n",
       "      <td>3.800768e+10</td>\n",
       "      <td>194955.572545</td>\n",
       "      <td>151809.878244</td>\n",
       "      <td>0.019370</td>\n",
       "      <td>0.022519</td>\n",
       "      <td>0.019616</td>\n",
       "      <td>0.000000</td>\n",
       "    </tr>\n",
       "    <tr>\n",
       "      <th>2</th>\n",
       "      <td>5 days</td>\n",
       "      <td>5.207975e+10</td>\n",
       "      <td>228209.883562</td>\n",
       "      <td>175660.858105</td>\n",
       "      <td>0.021820</td>\n",
       "      <td>0.025652</td>\n",
       "      <td>0.022142</td>\n",
       "      <td>0.066667</td>\n",
       "    </tr>\n",
       "    <tr>\n",
       "      <th>3</th>\n",
       "      <td>6 days</td>\n",
       "      <td>6.984333e+10</td>\n",
       "      <td>264278.886150</td>\n",
       "      <td>202662.991040</td>\n",
       "      <td>0.024599</td>\n",
       "      <td>0.026650</td>\n",
       "      <td>0.025013</td>\n",
       "      <td>0.133333</td>\n",
       "    </tr>\n",
       "    <tr>\n",
       "      <th>4</th>\n",
       "      <td>7 days</td>\n",
       "      <td>9.068788e+10</td>\n",
       "      <td>301144.291424</td>\n",
       "      <td>233027.732457</td>\n",
       "      <td>0.027882</td>\n",
       "      <td>0.031209</td>\n",
       "      <td>0.028408</td>\n",
       "      <td>0.200000</td>\n",
       "    </tr>\n",
       "  </tbody>\n",
       "</table>\n",
       "</div>"
      ],
      "text/plain": [
       "  horizon           mse           rmse            mae      mape     mdape  \\\n",
       "0  3 days  2.746449e+10  165724.139309  129605.276177  0.016907  0.017703   \n",
       "1  4 days  3.800768e+10  194955.572545  151809.878244  0.019370  0.022519   \n",
       "2  5 days  5.207975e+10  228209.883562  175660.858105  0.021820  0.025652   \n",
       "3  6 days  6.984333e+10  264278.886150  202662.991040  0.024599  0.026650   \n",
       "4  7 days  9.068788e+10  301144.291424  233027.732457  0.027882  0.031209   \n",
       "\n",
       "      smape  coverage  \n",
       "0  0.017090  0.000000  \n",
       "1  0.019616  0.000000  \n",
       "2  0.022142  0.066667  \n",
       "3  0.025013  0.133333  \n",
       "4  0.028408  0.200000  "
      ]
     },
     "execution_count": 30,
     "metadata": {},
     "output_type": "execute_result"
    }
   ],
   "source": [
    "from prophet.diagnostics import performance_metrics\n",
    "data_perf = performance_metrics(data_cv)\n",
    "data_perf.head()"
   ]
  },
  {
   "cell_type": "code",
   "execution_count": 31,
   "id": "e3124d1f",
   "metadata": {
    "execution": {
     "iopub.execute_input": "2022-12-20T09:57:57.106546Z",
     "iopub.status.busy": "2022-12-20T09:57:57.105795Z",
     "iopub.status.idle": "2022-12-20T09:57:57.666587Z",
     "shell.execute_reply": "2022-12-20T09:57:57.665489Z"
    },
    "papermill": {
     "duration": 0.583188,
     "end_time": "2022-12-20T09:57:57.668913",
     "exception": false,
     "start_time": "2022-12-20T09:57:57.085725",
     "status": "completed"
    },
    "tags": []
   },
   "outputs": [
    {
     "name": "stderr",
     "output_type": "stream",
     "text": [
      "/opt/conda/lib/python3.7/site-packages/prophet/plot.py:544: FutureWarning: casting timedelta64[ns] values to int64 with .astype(...) is deprecated and will raise in a future version. Use .view(...) instead.\n",
      "  x_plt = df_none['horizon'].astype('timedelta64[ns]').astype(np.int64) / float(dt_conversions[i])\n",
      "/opt/conda/lib/python3.7/site-packages/prophet/plot.py:545: FutureWarning: casting timedelta64[ns] values to int64 with .astype(...) is deprecated and will raise in a future version. Use .view(...) instead.\n",
      "  x_plt_h = df_h['horizon'].astype('timedelta64[ns]').astype(np.int64) / float(dt_conversions[i])\n"
     ]
    },
    {
     "data": {
      "image/png": "[encoded data removed]",
      "text/plain": [
       "<Figure size 720x432 with 1 Axes>"
      ]
     },
     "execution_count": 31,
     "metadata": {},
     "output_type": "execute_result"
    },
    {
     "data": {
      "image/png": "[encoded data removed]",
      "text/plain": [
       "<Figure size 720x432 with 1 Axes>"
      ]
     },
     "metadata": {},
     "output_type": "display_data"
    }
   ],
   "source": [
    "from prophet.plot import plot_cross_validation_metric\n",
    "plot_cross_validation_metric(data_cv,metric='rmse')"
   ]
  },
  {
   "cell_type": "code",
   "execution_count": 32,
   "id": "2b503283",
   "metadata": {
    "execution": {
     "iopub.execute_input": "2022-12-20T09:57:57.711256Z",
     "iopub.status.busy": "2022-12-20T09:57:57.710828Z",
     "iopub.status.idle": "2022-12-20T09:57:57.792543Z",
     "shell.execute_reply": "2022-12-20T09:57:57.791491Z"
    },
    "papermill": {
     "duration": 0.105636,
     "end_time": "2022-12-20T09:57:57.795152",
     "exception": false,
     "start_time": "2022-12-20T09:57:57.689516",
     "status": "completed"
    },
    "tags": []
   },
   "outputs": [
    {
     "data": {
      "text/html": [
       "<div>\n",
       "<style scoped>\n",
       "    .dataframe tbody tr th:only-of-type {\n",
       "        vertical-align: middle;\n",
       "    }\n",
       "\n",
       "    .dataframe tbody tr th {\n",
       "        vertical-align: top;\n",
       "    }\n",
       "\n",
       "    .dataframe thead th {\n",
       "        text-align: right;\n",
       "    }\n",
       "</style>\n",
       "<table border=\"1\" class=\"dataframe\">\n",
       "  <thead>\n",
       "    <tr style=\"text-align: right;\">\n",
       "      <th></th>\n",
       "      <th>Province/State</th>\n",
       "      <th>Country/Region</th>\n",
       "      <th>Lat</th>\n",
       "      <th>Long</th>\n",
       "      <th>Date</th>\n",
       "      <th>Confirmed</th>\n",
       "      <th>Deaths</th>\n",
       "      <th>Recovered</th>\n",
       "      <th>Active</th>\n",
       "      <th>WHO Region</th>\n",
       "    </tr>\n",
       "  </thead>\n",
       "  <tbody>\n",
       "    <tr>\n",
       "      <th>0</th>\n",
       "      <td>NaN</td>\n",
       "      <td>Afghanistan</td>\n",
       "      <td>33.93911</td>\n",
       "      <td>67.709953</td>\n",
       "      <td>2020-01-22</td>\n",
       "      <td>0</td>\n",
       "      <td>0</td>\n",
       "      <td>0</td>\n",
       "      <td>0</td>\n",
       "      <td>Eastern Mediterranean</td>\n",
       "    </tr>\n",
       "    <tr>\n",
       "      <th>1</th>\n",
       "      <td>NaN</td>\n",
       "      <td>Albania</td>\n",
       "      <td>41.15330</td>\n",
       "      <td>20.168300</td>\n",
       "      <td>2020-01-22</td>\n",
       "      <td>0</td>\n",
       "      <td>0</td>\n",
       "      <td>0</td>\n",
       "      <td>0</td>\n",
       "      <td>Europe</td>\n",
       "    </tr>\n",
       "    <tr>\n",
       "      <th>2</th>\n",
       "      <td>NaN</td>\n",
       "      <td>Algeria</td>\n",
       "      <td>28.03390</td>\n",
       "      <td>1.659600</td>\n",
       "      <td>2020-01-22</td>\n",
       "      <td>0</td>\n",
       "      <td>0</td>\n",
       "      <td>0</td>\n",
       "      <td>0</td>\n",
       "      <td>Africa</td>\n",
       "    </tr>\n",
       "    <tr>\n",
       "      <th>3</th>\n",
       "      <td>NaN</td>\n",
       "      <td>Andorra</td>\n",
       "      <td>42.50630</td>\n",
       "      <td>1.521800</td>\n",
       "      <td>2020-01-22</td>\n",
       "      <td>0</td>\n",
       "      <td>0</td>\n",
       "      <td>0</td>\n",
       "      <td>0</td>\n",
       "      <td>Europe</td>\n",
       "    </tr>\n",
       "    <tr>\n",
       "      <th>4</th>\n",
       "      <td>NaN</td>\n",
       "      <td>Angola</td>\n",
       "      <td>-11.20270</td>\n",
       "      <td>17.873900</td>\n",
       "      <td>2020-01-22</td>\n",
       "      <td>0</td>\n",
       "      <td>0</td>\n",
       "      <td>0</td>\n",
       "      <td>0</td>\n",
       "      <td>Africa</td>\n",
       "    </tr>\n",
       "  </tbody>\n",
       "</table>\n",
       "</div>"
      ],
      "text/plain": [
       "  Province/State Country/Region       Lat       Long        Date  Confirmed  \\\n",
       "0            NaN    Afghanistan  33.93911  67.709953  2020-01-22          0   \n",
       "1            NaN        Albania  41.15330  20.168300  2020-01-22          0   \n",
       "2            NaN        Algeria  28.03390   1.659600  2020-01-22          0   \n",
       "3            NaN        Andorra  42.50630   1.521800  2020-01-22          0   \n",
       "4            NaN         Angola -11.20270  17.873900  2020-01-22          0   \n",
       "\n",
       "   Deaths  Recovered  Active             WHO Region  \n",
       "0       0          0       0  Eastern Mediterranean  \n",
       "1       0          0       0                 Europe  \n",
       "2       0          0       0                 Africa  \n",
       "3       0          0       0                 Europe  \n",
       "4       0          0       0                 Africa  "
      ]
     },
     "execution_count": 32,
     "metadata": {},
     "output_type": "execute_result"
    }
   ],
   "source": [
    "data_world = pd.read_csv('/kaggle/input/corona-virus-report/covid_19_clean_complete.csv')\n",
    "data_world.head()"
   ]
  },
  {
   "cell_type": "code",
   "execution_count": 33,
   "id": "7471e23f",
   "metadata": {
    "execution": {
     "iopub.execute_input": "2022-12-20T09:57:57.838411Z",
     "iopub.status.busy": "2022-12-20T09:57:57.837626Z",
     "iopub.status.idle": "2022-12-20T09:57:57.845366Z",
     "shell.execute_reply": "2022-12-20T09:57:57.844181Z"
    },
    "papermill": {
     "duration": 0.032435,
     "end_time": "2022-12-20T09:57:57.847734",
     "exception": false,
     "start_time": "2022-12-20T09:57:57.815299",
     "status": "completed"
    },
    "tags": []
   },
   "outputs": [
    {
     "data": {
      "text/plain": [
       "Index(['Province/State', 'Country/Region', 'Lat', 'Long', 'Date', 'Confirmed',\n",
       "       'Deaths', 'Recovered', 'Active', 'WHO Region'],\n",
       "      dtype='object')"
      ]
     },
     "execution_count": 33,
     "metadata": {},
     "output_type": "execute_result"
    }
   ],
   "source": [
    "data_world.columns"
   ]
  },
  {
   "cell_type": "markdown",
   "id": "7728207e",
   "metadata": {
    "papermill": {
     "duration": 0.01929,
     "end_time": "2022-12-20T09:57:57.886983",
     "exception": false,
     "start_time": "2022-12-20T09:57:57.867693",
     "status": "completed"
    },
    "tags": []
   },
   "source": [
    "Let's find the same analysis for the India country"
   ]
  },
  {
   "cell_type": "code",
   "execution_count": 34,
   "id": "2a115604",
   "metadata": {
    "execution": {
     "iopub.execute_input": "2022-12-20T09:57:57.929539Z",
     "iopub.status.busy": "2022-12-20T09:57:57.927922Z",
     "iopub.status.idle": "2022-12-20T09:57:57.948516Z",
     "shell.execute_reply": "2022-12-20T09:57:57.947324Z"
    },
    "papermill": {
     "duration": 0.043907,
     "end_time": "2022-12-20T09:57:57.950821",
     "exception": false,
     "start_time": "2022-12-20T09:57:57.906914",
     "status": "completed"
    },
    "tags": []
   },
   "outputs": [
    {
     "data": {
      "text/html": [
       "<div>\n",
       "<style scoped>\n",
       "    .dataframe tbody tr th:only-of-type {\n",
       "        vertical-align: middle;\n",
       "    }\n",
       "\n",
       "    .dataframe tbody tr th {\n",
       "        vertical-align: top;\n",
       "    }\n",
       "\n",
       "    .dataframe thead th {\n",
       "        text-align: right;\n",
       "    }\n",
       "</style>\n",
       "<table border=\"1\" class=\"dataframe\">\n",
       "  <thead>\n",
       "    <tr style=\"text-align: right;\">\n",
       "      <th></th>\n",
       "      <th>Province/State</th>\n",
       "      <th>Country/Region</th>\n",
       "      <th>Lat</th>\n",
       "      <th>Long</th>\n",
       "      <th>Date</th>\n",
       "      <th>Confirmed</th>\n",
       "      <th>Deaths</th>\n",
       "      <th>Recovered</th>\n",
       "      <th>Active</th>\n",
       "      <th>WHO Region</th>\n",
       "    </tr>\n",
       "  </thead>\n",
       "  <tbody>\n",
       "    <tr>\n",
       "      <th>129</th>\n",
       "      <td>NaN</td>\n",
       "      <td>India</td>\n",
       "      <td>20.593684</td>\n",
       "      <td>78.96288</td>\n",
       "      <td>2020-01-22</td>\n",
       "      <td>0</td>\n",
       "      <td>0</td>\n",
       "      <td>0</td>\n",
       "      <td>0</td>\n",
       "      <td>South-East Asia</td>\n",
       "    </tr>\n",
       "    <tr>\n",
       "      <th>390</th>\n",
       "      <td>NaN</td>\n",
       "      <td>India</td>\n",
       "      <td>20.593684</td>\n",
       "      <td>78.96288</td>\n",
       "      <td>2020-01-23</td>\n",
       "      <td>0</td>\n",
       "      <td>0</td>\n",
       "      <td>0</td>\n",
       "      <td>0</td>\n",
       "      <td>South-East Asia</td>\n",
       "    </tr>\n",
       "    <tr>\n",
       "      <th>651</th>\n",
       "      <td>NaN</td>\n",
       "      <td>India</td>\n",
       "      <td>20.593684</td>\n",
       "      <td>78.96288</td>\n",
       "      <td>2020-01-24</td>\n",
       "      <td>0</td>\n",
       "      <td>0</td>\n",
       "      <td>0</td>\n",
       "      <td>0</td>\n",
       "      <td>South-East Asia</td>\n",
       "    </tr>\n",
       "    <tr>\n",
       "      <th>912</th>\n",
       "      <td>NaN</td>\n",
       "      <td>India</td>\n",
       "      <td>20.593684</td>\n",
       "      <td>78.96288</td>\n",
       "      <td>2020-01-25</td>\n",
       "      <td>0</td>\n",
       "      <td>0</td>\n",
       "      <td>0</td>\n",
       "      <td>0</td>\n",
       "      <td>South-East Asia</td>\n",
       "    </tr>\n",
       "    <tr>\n",
       "      <th>1173</th>\n",
       "      <td>NaN</td>\n",
       "      <td>India</td>\n",
       "      <td>20.593684</td>\n",
       "      <td>78.96288</td>\n",
       "      <td>2020-01-26</td>\n",
       "      <td>0</td>\n",
       "      <td>0</td>\n",
       "      <td>0</td>\n",
       "      <td>0</td>\n",
       "      <td>South-East Asia</td>\n",
       "    </tr>\n",
       "  </tbody>\n",
       "</table>\n",
       "</div>"
      ],
      "text/plain": [
       "     Province/State Country/Region        Lat      Long        Date  \\\n",
       "129             NaN          India  20.593684  78.96288  2020-01-22   \n",
       "390             NaN          India  20.593684  78.96288  2020-01-23   \n",
       "651             NaN          India  20.593684  78.96288  2020-01-24   \n",
       "912             NaN          India  20.593684  78.96288  2020-01-25   \n",
       "1173            NaN          India  20.593684  78.96288  2020-01-26   \n",
       "\n",
       "      Confirmed  Deaths  Recovered  Active       WHO Region  \n",
       "129           0       0          0       0  South-East Asia  \n",
       "390           0       0          0       0  South-East Asia  \n",
       "651           0       0          0       0  South-East Asia  \n",
       "912           0       0          0       0  South-East Asia  \n",
       "1173          0       0          0       0  South-East Asia  "
      ]
     },
     "execution_count": 34,
     "metadata": {},
     "output_type": "execute_result"
    }
   ],
   "source": [
    "data_india = data_world[data_world['Country/Region']=='India']\n",
    "data_india.head()"
   ]
  },
  {
   "cell_type": "code",
   "execution_count": 35,
   "id": "156b400f",
   "metadata": {
    "execution": {
     "iopub.execute_input": "2022-12-20T09:57:57.993122Z",
     "iopub.status.busy": "2022-12-20T09:57:57.992412Z",
     "iopub.status.idle": "2022-12-20T09:57:57.998964Z",
     "shell.execute_reply": "2022-12-20T09:57:57.998171Z"
    },
    "papermill": {
     "duration": 0.030215,
     "end_time": "2022-12-20T09:57:58.001062",
     "exception": false,
     "start_time": "2022-12-20T09:57:57.970847",
     "status": "completed"
    },
    "tags": []
   },
   "outputs": [
    {
     "data": {
      "text/plain": [
       "(188, 10)"
      ]
     },
     "execution_count": 35,
     "metadata": {},
     "output_type": "execute_result"
    }
   ],
   "source": [
    "data_india.shape"
   ]
  },
  {
   "cell_type": "code",
   "execution_count": 36,
   "id": "0f3dd7b0",
   "metadata": {
    "execution": {
     "iopub.execute_input": "2022-12-20T09:57:58.043610Z",
     "iopub.status.busy": "2022-12-20T09:57:58.042874Z",
     "iopub.status.idle": "2022-12-20T09:57:58.055708Z",
     "shell.execute_reply": "2022-12-20T09:57:58.054697Z"
    },
    "papermill": {
     "duration": 0.036887,
     "end_time": "2022-12-20T09:57:58.058033",
     "exception": false,
     "start_time": "2022-12-20T09:57:58.021146",
     "status": "completed"
    },
    "tags": []
   },
   "outputs": [
    {
     "data": {
      "text/html": [
       "<div>\n",
       "<style scoped>\n",
       "    .dataframe tbody tr th:only-of-type {\n",
       "        vertical-align: middle;\n",
       "    }\n",
       "\n",
       "    .dataframe tbody tr th {\n",
       "        vertical-align: top;\n",
       "    }\n",
       "\n",
       "    .dataframe thead th {\n",
       "        text-align: right;\n",
       "    }\n",
       "</style>\n",
       "<table border=\"1\" class=\"dataframe\">\n",
       "  <thead>\n",
       "    <tr style=\"text-align: right;\">\n",
       "      <th></th>\n",
       "      <th>Date</th>\n",
       "      <th>Confirmed</th>\n",
       "    </tr>\n",
       "  </thead>\n",
       "  <tbody>\n",
       "    <tr>\n",
       "      <th>183</th>\n",
       "      <td>2020-07-23</td>\n",
       "      <td>1288108</td>\n",
       "    </tr>\n",
       "    <tr>\n",
       "      <th>184</th>\n",
       "      <td>2020-07-24</td>\n",
       "      <td>1337024</td>\n",
       "    </tr>\n",
       "    <tr>\n",
       "      <th>185</th>\n",
       "      <td>2020-07-25</td>\n",
       "      <td>1385635</td>\n",
       "    </tr>\n",
       "    <tr>\n",
       "      <th>186</th>\n",
       "      <td>2020-07-26</td>\n",
       "      <td>1435616</td>\n",
       "    </tr>\n",
       "    <tr>\n",
       "      <th>187</th>\n",
       "      <td>2020-07-27</td>\n",
       "      <td>1480073</td>\n",
       "    </tr>\n",
       "  </tbody>\n",
       "</table>\n",
       "</div>"
      ],
      "text/plain": [
       "           Date  Confirmed\n",
       "183  2020-07-23    1288108\n",
       "184  2020-07-24    1337024\n",
       "185  2020-07-25    1385635\n",
       "186  2020-07-26    1435616\n",
       "187  2020-07-27    1480073"
      ]
     },
     "execution_count": 36,
     "metadata": {},
     "output_type": "execute_result"
    }
   ],
   "source": [
    "data_india = data_india.groupby(['Date'])['Confirmed'].sum().reset_index()\n",
    "data_india.tail()"
   ]
  },
  {
   "cell_type": "code",
   "execution_count": 37,
   "id": "3e76c56f",
   "metadata": {
    "execution": {
     "iopub.execute_input": "2022-12-20T09:57:58.100396Z",
     "iopub.status.busy": "2022-12-20T09:57:58.099672Z",
     "iopub.status.idle": "2022-12-20T09:57:58.104655Z",
     "shell.execute_reply": "2022-12-20T09:57:58.103859Z"
    },
    "papermill": {
     "duration": 0.028796,
     "end_time": "2022-12-20T09:57:58.106851",
     "exception": false,
     "start_time": "2022-12-20T09:57:58.078055",
     "status": "completed"
    },
    "tags": []
   },
   "outputs": [],
   "source": [
    "data_india_prophet = data_india.copy()"
   ]
  },
  {
   "cell_type": "code",
   "execution_count": 38,
   "id": "8d2faa93",
   "metadata": {
    "execution": {
     "iopub.execute_input": "2022-12-20T09:57:58.149817Z",
     "iopub.status.busy": "2022-12-20T09:57:58.149038Z",
     "iopub.status.idle": "2022-12-20T09:57:58.160784Z",
     "shell.execute_reply": "2022-12-20T09:57:58.159716Z"
    },
    "papermill": {
     "duration": 0.036058,
     "end_time": "2022-12-20T09:57:58.163105",
     "exception": false,
     "start_time": "2022-12-20T09:57:58.127047",
     "status": "completed"
    },
    "tags": []
   },
   "outputs": [
    {
     "data": {
      "text/html": [
       "<div>\n",
       "<style scoped>\n",
       "    .dataframe tbody tr th:only-of-type {\n",
       "        vertical-align: middle;\n",
       "    }\n",
       "\n",
       "    .dataframe tbody tr th {\n",
       "        vertical-align: top;\n",
       "    }\n",
       "\n",
       "    .dataframe thead th {\n",
       "        text-align: right;\n",
       "    }\n",
       "</style>\n",
       "<table border=\"1\" class=\"dataframe\">\n",
       "  <thead>\n",
       "    <tr style=\"text-align: right;\">\n",
       "      <th></th>\n",
       "      <th>ds</th>\n",
       "      <th>y</th>\n",
       "    </tr>\n",
       "  </thead>\n",
       "  <tbody>\n",
       "    <tr>\n",
       "      <th>108</th>\n",
       "      <td>2020-05-09</td>\n",
       "      <td>62808</td>\n",
       "    </tr>\n",
       "    <tr>\n",
       "      <th>43</th>\n",
       "      <td>2020-03-05</td>\n",
       "      <td>30</td>\n",
       "    </tr>\n",
       "    <tr>\n",
       "      <th>19</th>\n",
       "      <td>2020-02-10</td>\n",
       "      <td>3</td>\n",
       "    </tr>\n",
       "    <tr>\n",
       "      <th>36</th>\n",
       "      <td>2020-02-27</td>\n",
       "      <td>3</td>\n",
       "    </tr>\n",
       "    <tr>\n",
       "      <th>27</th>\n",
       "      <td>2020-02-18</td>\n",
       "      <td>3</td>\n",
       "    </tr>\n",
       "  </tbody>\n",
       "</table>\n",
       "</div>"
      ],
      "text/plain": [
       "             ds      y\n",
       "108  2020-05-09  62808\n",
       "43   2020-03-05     30\n",
       "19   2020-02-10      3\n",
       "36   2020-02-27      3\n",
       "27   2020-02-18      3"
      ]
     },
     "execution_count": 38,
     "metadata": {},
     "output_type": "execute_result"
    }
   ],
   "source": [
    "data_india_prophet.rename(columns={'Date':'ds','Confirmed':'y'},inplace=True)\n",
    "data_india_prophet.sample(5)"
   ]
  },
  {
   "cell_type": "code",
   "execution_count": 39,
   "id": "5c488094",
   "metadata": {
    "execution": {
     "iopub.execute_input": "2022-12-20T09:57:58.207095Z",
     "iopub.status.busy": "2022-12-20T09:57:58.206379Z",
     "iopub.status.idle": "2022-12-20T09:57:58.210990Z",
     "shell.execute_reply": "2022-12-20T09:57:58.210267Z"
    },
    "papermill": {
     "duration": 0.029055,
     "end_time": "2022-12-20T09:57:58.213044",
     "exception": false,
     "start_time": "2022-12-20T09:57:58.183989",
     "status": "completed"
    },
    "tags": []
   },
   "outputs": [],
   "source": [
    "m=Prophet()"
   ]
  },
  {
   "cell_type": "code",
   "execution_count": 40,
   "id": "79503f43",
   "metadata": {
    "execution": {
     "iopub.execute_input": "2022-12-20T09:57:58.257415Z",
     "iopub.status.busy": "2022-12-20T09:57:58.256678Z",
     "iopub.status.idle": "2022-12-20T09:57:58.363591Z",
     "shell.execute_reply": "2022-12-20T09:57:58.362499Z"
    },
    "papermill": {
     "duration": 0.132371,
     "end_time": "2022-12-20T09:57:58.366164",
     "exception": false,
     "start_time": "2022-12-20T09:57:58.233793",
     "status": "completed"
    },
    "tags": []
   },
   "outputs": [
    {
     "name": "stderr",
     "output_type": "stream",
     "text": [
      "09:57:58 - cmdstanpy - INFO - Chain [1] start processing\n",
      "09:57:58 - cmdstanpy - INFO - Chain [1] done processing\n"
     ]
    }
   ],
   "source": [
    "model = m.fit(data_india_prophet)"
   ]
  },
  {
   "cell_type": "code",
   "execution_count": 41,
   "id": "802c29ac",
   "metadata": {
    "execution": {
     "iopub.execute_input": "2022-12-20T09:57:58.410031Z",
     "iopub.status.busy": "2022-12-20T09:57:58.409592Z",
     "iopub.status.idle": "2022-12-20T09:57:58.417799Z",
     "shell.execute_reply": "2022-12-20T09:57:58.416713Z"
    },
    "papermill": {
     "duration": 0.032645,
     "end_time": "2022-12-20T09:57:58.419937",
     "exception": false,
     "start_time": "2022-12-20T09:57:58.387292",
     "status": "completed"
    },
    "tags": []
   },
   "outputs": [
    {
     "data": {
      "text/plain": [
       "OrderedDict([('weekly',\n",
       "              {'period': 7,\n",
       "               'fourier_order': 3,\n",
       "               'prior_scale': 10.0,\n",
       "               'mode': 'additive',\n",
       "               'condition_name': None})])"
      ]
     },
     "execution_count": 41,
     "metadata": {},
     "output_type": "execute_result"
    }
   ],
   "source": [
    "m.seasonalities"
   ]
  },
  {
   "cell_type": "code",
   "execution_count": 42,
   "id": "ffec1285",
   "metadata": {
    "execution": {
     "iopub.execute_input": "2022-12-20T09:57:58.463836Z",
     "iopub.status.busy": "2022-12-20T09:57:58.463385Z",
     "iopub.status.idle": "2022-12-20T09:57:58.471305Z",
     "shell.execute_reply": "2022-12-20T09:57:58.470244Z"
    },
    "papermill": {
     "duration": 0.032662,
     "end_time": "2022-12-20T09:57:58.473608",
     "exception": false,
     "start_time": "2022-12-20T09:57:58.440946",
     "status": "completed"
    },
    "tags": []
   },
   "outputs": [],
   "source": [
    "future = model.make_future_dataframe(periods=30,freq='D')"
   ]
  },
  {
   "cell_type": "code",
   "execution_count": 43,
   "id": "c91594c5",
   "metadata": {
    "execution": {
     "iopub.execute_input": "2022-12-20T09:57:58.517014Z",
     "iopub.status.busy": "2022-12-20T09:57:58.516624Z",
     "iopub.status.idle": "2022-12-20T09:57:58.526325Z",
     "shell.execute_reply": "2022-12-20T09:57:58.525520Z"
    },
    "papermill": {
     "duration": 0.033697,
     "end_time": "2022-12-20T09:57:58.528264",
     "exception": false,
     "start_time": "2022-12-20T09:57:58.494567",
     "status": "completed"
    },
    "tags": []
   },
   "outputs": [
    {
     "data": {
      "text/html": [
       "<div>\n",
       "<style scoped>\n",
       "    .dataframe tbody tr th:only-of-type {\n",
       "        vertical-align: middle;\n",
       "    }\n",
       "\n",
       "    .dataframe tbody tr th {\n",
       "        vertical-align: top;\n",
       "    }\n",
       "\n",
       "    .dataframe thead th {\n",
       "        text-align: right;\n",
       "    }\n",
       "</style>\n",
       "<table border=\"1\" class=\"dataframe\">\n",
       "  <thead>\n",
       "    <tr style=\"text-align: right;\">\n",
       "      <th></th>\n",
       "      <th>ds</th>\n",
       "    </tr>\n",
       "  </thead>\n",
       "  <tbody>\n",
       "    <tr>\n",
       "      <th>0</th>\n",
       "      <td>2020-01-22</td>\n",
       "    </tr>\n",
       "    <tr>\n",
       "      <th>1</th>\n",
       "      <td>2020-01-23</td>\n",
       "    </tr>\n",
       "    <tr>\n",
       "      <th>2</th>\n",
       "      <td>2020-01-24</td>\n",
       "    </tr>\n",
       "    <tr>\n",
       "      <th>3</th>\n",
       "      <td>2020-01-25</td>\n",
       "    </tr>\n",
       "    <tr>\n",
       "      <th>4</th>\n",
       "      <td>2020-01-26</td>\n",
       "    </tr>\n",
       "  </tbody>\n",
       "</table>\n",
       "</div>"
      ],
      "text/plain": [
       "          ds\n",
       "0 2020-01-22\n",
       "1 2020-01-23\n",
       "2 2020-01-24\n",
       "3 2020-01-25\n",
       "4 2020-01-26"
      ]
     },
     "execution_count": 43,
     "metadata": {},
     "output_type": "execute_result"
    }
   ],
   "source": [
    "future.head()"
   ]
  },
  {
   "cell_type": "code",
   "execution_count": 44,
   "id": "aa355db6",
   "metadata": {
    "execution": {
     "iopub.execute_input": "2022-12-20T09:57:58.572733Z",
     "iopub.status.busy": "2022-12-20T09:57:58.571965Z",
     "iopub.status.idle": "2022-12-20T09:57:59.086519Z",
     "shell.execute_reply": "2022-12-20T09:57:59.085650Z"
    },
    "papermill": {
     "duration": 0.539771,
     "end_time": "2022-12-20T09:57:59.088965",
     "exception": false,
     "start_time": "2022-12-20T09:57:58.549194",
     "status": "completed"
    },
    "tags": []
   },
   "outputs": [],
   "source": [
    "prediction_india = model.predict(future)"
   ]
  },
  {
   "cell_type": "code",
   "execution_count": 45,
   "id": "0c0f28c0",
   "metadata": {
    "execution": {
     "iopub.execute_input": "2022-12-20T09:57:59.133601Z",
     "iopub.status.busy": "2022-12-20T09:57:59.132888Z",
     "iopub.status.idle": "2022-12-20T09:57:59.162231Z",
     "shell.execute_reply": "2022-12-20T09:57:59.161062Z"
    },
    "papermill": {
     "duration": 0.054228,
     "end_time": "2022-12-20T09:57:59.164597",
     "exception": false,
     "start_time": "2022-12-20T09:57:59.110369",
     "status": "completed"
    },
    "tags": []
   },
   "outputs": [
    {
     "data": {
      "text/html": [
       "<div>\n",
       "<style scoped>\n",
       "    .dataframe tbody tr th:only-of-type {\n",
       "        vertical-align: middle;\n",
       "    }\n",
       "\n",
       "    .dataframe tbody tr th {\n",
       "        vertical-align: top;\n",
       "    }\n",
       "\n",
       "    .dataframe thead th {\n",
       "        text-align: right;\n",
       "    }\n",
       "</style>\n",
       "<table border=\"1\" class=\"dataframe\">\n",
       "  <thead>\n",
       "    <tr style=\"text-align: right;\">\n",
       "      <th></th>\n",
       "      <th>ds</th>\n",
       "      <th>trend</th>\n",
       "      <th>yhat_lower</th>\n",
       "      <th>yhat_upper</th>\n",
       "      <th>trend_lower</th>\n",
       "      <th>trend_upper</th>\n",
       "      <th>additive_terms</th>\n",
       "      <th>additive_terms_lower</th>\n",
       "      <th>additive_terms_upper</th>\n",
       "      <th>weekly</th>\n",
       "      <th>weekly_lower</th>\n",
       "      <th>weekly_upper</th>\n",
       "      <th>multiplicative_terms</th>\n",
       "      <th>multiplicative_terms_lower</th>\n",
       "      <th>multiplicative_terms_upper</th>\n",
       "      <th>yhat</th>\n",
       "    </tr>\n",
       "  </thead>\n",
       "  <tbody>\n",
       "    <tr>\n",
       "      <th>0</th>\n",
       "      <td>2020-01-22</td>\n",
       "      <td>-1.548985e+03</td>\n",
       "      <td>-3.815184e+04</td>\n",
       "      <td>3.216165e+04</td>\n",
       "      <td>-1.548985e+03</td>\n",
       "      <td>-1.548985e+03</td>\n",
       "      <td>-2134.741002</td>\n",
       "      <td>-2134.741002</td>\n",
       "      <td>-2134.741002</td>\n",
       "      <td>-2134.741002</td>\n",
       "      <td>-2134.741002</td>\n",
       "      <td>-2134.741002</td>\n",
       "      <td>0.0</td>\n",
       "      <td>0.0</td>\n",
       "      <td>0.0</td>\n",
       "      <td>-3.683726e+03</td>\n",
       "    </tr>\n",
       "    <tr>\n",
       "      <th>1</th>\n",
       "      <td>2020-01-23</td>\n",
       "      <td>-1.508219e+03</td>\n",
       "      <td>-3.467665e+04</td>\n",
       "      <td>3.218748e+04</td>\n",
       "      <td>-1.508219e+03</td>\n",
       "      <td>-1.508219e+03</td>\n",
       "      <td>-1032.704655</td>\n",
       "      <td>-1032.704655</td>\n",
       "      <td>-1032.704655</td>\n",
       "      <td>-1032.704655</td>\n",
       "      <td>-1032.704655</td>\n",
       "      <td>-1032.704655</td>\n",
       "      <td>0.0</td>\n",
       "      <td>0.0</td>\n",
       "      <td>0.0</td>\n",
       "      <td>-2.540924e+03</td>\n",
       "    </tr>\n",
       "    <tr>\n",
       "      <th>2</th>\n",
       "      <td>2020-01-24</td>\n",
       "      <td>-1.467453e+03</td>\n",
       "      <td>-3.476991e+04</td>\n",
       "      <td>3.362410e+04</td>\n",
       "      <td>-1.467453e+03</td>\n",
       "      <td>-1.467453e+03</td>\n",
       "      <td>194.861999</td>\n",
       "      <td>194.861999</td>\n",
       "      <td>194.861999</td>\n",
       "      <td>194.861999</td>\n",
       "      <td>194.861999</td>\n",
       "      <td>194.861999</td>\n",
       "      <td>0.0</td>\n",
       "      <td>0.0</td>\n",
       "      <td>0.0</td>\n",
       "      <td>-1.272591e+03</td>\n",
       "    </tr>\n",
       "    <tr>\n",
       "      <th>3</th>\n",
       "      <td>2020-01-25</td>\n",
       "      <td>-1.426686e+03</td>\n",
       "      <td>-3.506769e+04</td>\n",
       "      <td>3.509610e+04</td>\n",
       "      <td>-1.426686e+03</td>\n",
       "      <td>-1.426686e+03</td>\n",
       "      <td>1132.042675</td>\n",
       "      <td>1132.042675</td>\n",
       "      <td>1132.042675</td>\n",
       "      <td>1132.042675</td>\n",
       "      <td>1132.042675</td>\n",
       "      <td>1132.042675</td>\n",
       "      <td>0.0</td>\n",
       "      <td>0.0</td>\n",
       "      <td>0.0</td>\n",
       "      <td>-2.946437e+02</td>\n",
       "    </tr>\n",
       "    <tr>\n",
       "      <th>4</th>\n",
       "      <td>2020-01-26</td>\n",
       "      <td>-1.385920e+03</td>\n",
       "      <td>-3.567076e+04</td>\n",
       "      <td>3.567992e+04</td>\n",
       "      <td>-1.385920e+03</td>\n",
       "      <td>-1.385920e+03</td>\n",
       "      <td>2200.947810</td>\n",
       "      <td>2200.947810</td>\n",
       "      <td>2200.947810</td>\n",
       "      <td>2200.947810</td>\n",
       "      <td>2200.947810</td>\n",
       "      <td>2200.947810</td>\n",
       "      <td>0.0</td>\n",
       "      <td>0.0</td>\n",
       "      <td>0.0</td>\n",
       "      <td>8.150277e+02</td>\n",
       "    </tr>\n",
       "    <tr>\n",
       "      <th>...</th>\n",
       "      <td>...</td>\n",
       "      <td>...</td>\n",
       "      <td>...</td>\n",
       "      <td>...</td>\n",
       "      <td>...</td>\n",
       "      <td>...</td>\n",
       "      <td>...</td>\n",
       "      <td>...</td>\n",
       "      <td>...</td>\n",
       "      <td>...</td>\n",
       "      <td>...</td>\n",
       "      <td>...</td>\n",
       "      <td>...</td>\n",
       "      <td>...</td>\n",
       "      <td>...</td>\n",
       "      <td>...</td>\n",
       "    </tr>\n",
       "    <tr>\n",
       "      <th>213</th>\n",
       "      <td>2020-08-22</td>\n",
       "      <td>2.010518e+06</td>\n",
       "      <td>1.948447e+06</td>\n",
       "      <td>2.066965e+06</td>\n",
       "      <td>1.957893e+06</td>\n",
       "      <td>2.054553e+06</td>\n",
       "      <td>1132.042675</td>\n",
       "      <td>1132.042675</td>\n",
       "      <td>1132.042675</td>\n",
       "      <td>1132.042675</td>\n",
       "      <td>1132.042675</td>\n",
       "      <td>1132.042675</td>\n",
       "      <td>0.0</td>\n",
       "      <td>0.0</td>\n",
       "      <td>0.0</td>\n",
       "      <td>2.011650e+06</td>\n",
       "    </tr>\n",
       "    <tr>\n",
       "      <th>214</th>\n",
       "      <td>2020-08-23</td>\n",
       "      <td>2.036684e+06</td>\n",
       "      <td>1.974321e+06</td>\n",
       "      <td>2.097775e+06</td>\n",
       "      <td>1.981003e+06</td>\n",
       "      <td>2.084089e+06</td>\n",
       "      <td>2200.947810</td>\n",
       "      <td>2200.947810</td>\n",
       "      <td>2200.947810</td>\n",
       "      <td>2200.947810</td>\n",
       "      <td>2200.947810</td>\n",
       "      <td>2200.947810</td>\n",
       "      <td>0.0</td>\n",
       "      <td>0.0</td>\n",
       "      <td>0.0</td>\n",
       "      <td>2.038885e+06</td>\n",
       "    </tr>\n",
       "    <tr>\n",
       "      <th>215</th>\n",
       "      <td>2020-08-24</td>\n",
       "      <td>2.062849e+06</td>\n",
       "      <td>1.996997e+06</td>\n",
       "      <td>2.123201e+06</td>\n",
       "      <td>2.004007e+06</td>\n",
       "      <td>2.113155e+06</td>\n",
       "      <td>2648.595691</td>\n",
       "      <td>2648.595691</td>\n",
       "      <td>2648.595691</td>\n",
       "      <td>2648.595691</td>\n",
       "      <td>2648.595691</td>\n",
       "      <td>2648.595691</td>\n",
       "      <td>0.0</td>\n",
       "      <td>0.0</td>\n",
       "      <td>0.0</td>\n",
       "      <td>2.065498e+06</td>\n",
       "    </tr>\n",
       "    <tr>\n",
       "      <th>216</th>\n",
       "      <td>2020-08-25</td>\n",
       "      <td>2.089015e+06</td>\n",
       "      <td>2.017503e+06</td>\n",
       "      <td>2.148511e+06</td>\n",
       "      <td>2.027255e+06</td>\n",
       "      <td>2.142513e+06</td>\n",
       "      <td>-3009.002519</td>\n",
       "      <td>-3009.002519</td>\n",
       "      <td>-3009.002519</td>\n",
       "      <td>-3009.002519</td>\n",
       "      <td>-3009.002519</td>\n",
       "      <td>-3009.002519</td>\n",
       "      <td>0.0</td>\n",
       "      <td>0.0</td>\n",
       "      <td>0.0</td>\n",
       "      <td>2.086006e+06</td>\n",
       "    </tr>\n",
       "    <tr>\n",
       "      <th>217</th>\n",
       "      <td>2020-08-26</td>\n",
       "      <td>2.115181e+06</td>\n",
       "      <td>2.039538e+06</td>\n",
       "      <td>2.176311e+06</td>\n",
       "      <td>2.049503e+06</td>\n",
       "      <td>2.171571e+06</td>\n",
       "      <td>-2134.741002</td>\n",
       "      <td>-2134.741002</td>\n",
       "      <td>-2134.741002</td>\n",
       "      <td>-2134.741002</td>\n",
       "      <td>-2134.741002</td>\n",
       "      <td>-2134.741002</td>\n",
       "      <td>0.0</td>\n",
       "      <td>0.0</td>\n",
       "      <td>0.0</td>\n",
       "      <td>2.113046e+06</td>\n",
       "    </tr>\n",
       "  </tbody>\n",
       "</table>\n",
       "<p>218 rows × 16 columns</p>\n",
       "</div>"
      ],
      "text/plain": [
       "            ds         trend    yhat_lower    yhat_upper   trend_lower  \\\n",
       "0   2020-01-22 -1.548985e+03 -3.815184e+04  3.216165e+04 -1.548985e+03   \n",
       "1   2020-01-23 -1.508219e+03 -3.467665e+04  3.218748e+04 -1.508219e+03   \n",
       "2   2020-01-24 -1.467453e+03 -3.476991e+04  3.362410e+04 -1.467453e+03   \n",
       "3   2020-01-25 -1.426686e+03 -3.506769e+04  3.509610e+04 -1.426686e+03   \n",
       "4   2020-01-26 -1.385920e+03 -3.567076e+04  3.567992e+04 -1.385920e+03   \n",
       "..         ...           ...           ...           ...           ...   \n",
       "213 2020-08-22  2.010518e+06  1.948447e+06  2.066965e+06  1.957893e+06   \n",
       "214 2020-08-23  2.036684e+06  1.974321e+06  2.097775e+06  1.981003e+06   \n",
       "215 2020-08-24  2.062849e+06  1.996997e+06  2.123201e+06  2.004007e+06   \n",
       "216 2020-08-25  2.089015e+06  2.017503e+06  2.148511e+06  2.027255e+06   \n",
       "217 2020-08-26  2.115181e+06  2.039538e+06  2.176311e+06  2.049503e+06   \n",
       "\n",
       "      trend_upper  additive_terms  additive_terms_lower  additive_terms_upper  \\\n",
       "0   -1.548985e+03    -2134.741002          -2134.741002          -2134.741002   \n",
       "1   -1.508219e+03    -1032.704655          -1032.704655          -1032.704655   \n",
       "2   -1.467453e+03      194.861999            194.861999            194.861999   \n",
       "3   -1.426686e+03     1132.042675           1132.042675           1132.042675   \n",
       "4   -1.385920e+03     2200.947810           2200.947810           2200.947810   \n",
       "..            ...             ...                   ...                   ...   \n",
       "213  2.054553e+06     1132.042675           1132.042675           1132.042675   \n",
       "214  2.084089e+06     2200.947810           2200.947810           2200.947810   \n",
       "215  2.113155e+06     2648.595691           2648.595691           2648.595691   \n",
       "216  2.142513e+06    -3009.002519          -3009.002519          -3009.002519   \n",
       "217  2.171571e+06    -2134.741002          -2134.741002          -2134.741002   \n",
       "\n",
       "          weekly  weekly_lower  weekly_upper  multiplicative_terms  \\\n",
       "0   -2134.741002  -2134.741002  -2134.741002                   0.0   \n",
       "1   -1032.704655  -1032.704655  -1032.704655                   0.0   \n",
       "2     194.861999    194.861999    194.861999                   0.0   \n",
       "3    1132.042675   1132.042675   1132.042675                   0.0   \n",
       "4    2200.947810   2200.947810   2200.947810                   0.0   \n",
       "..           ...           ...           ...                   ...   \n",
       "213  1132.042675   1132.042675   1132.042675                   0.0   \n",
       "214  2200.947810   2200.947810   2200.947810                   0.0   \n",
       "215  2648.595691   2648.595691   2648.595691                   0.0   \n",
       "216 -3009.002519  -3009.002519  -3009.002519                   0.0   \n",
       "217 -2134.741002  -2134.741002  -2134.741002                   0.0   \n",
       "\n",
       "     multiplicative_terms_lower  multiplicative_terms_upper          yhat  \n",
       "0                           0.0                         0.0 -3.683726e+03  \n",
       "1                           0.0                         0.0 -2.540924e+03  \n",
       "2                           0.0                         0.0 -1.272591e+03  \n",
       "3                           0.0                         0.0 -2.946437e+02  \n",
       "4                           0.0                         0.0  8.150277e+02  \n",
       "..                          ...                         ...           ...  \n",
       "213                         0.0                         0.0  2.011650e+06  \n",
       "214                         0.0                         0.0  2.038885e+06  \n",
       "215                         0.0                         0.0  2.065498e+06  \n",
       "216                         0.0                         0.0  2.086006e+06  \n",
       "217                         0.0                         0.0  2.113046e+06  \n",
       "\n",
       "[218 rows x 16 columns]"
      ]
     },
     "execution_count": 45,
     "metadata": {},
     "output_type": "execute_result"
    }
   ],
   "source": [
    "prediction_india"
   ]
  },
  {
   "cell_type": "code",
   "execution_count": 46,
   "id": "ea8b53c9",
   "metadata": {
    "execution": {
     "iopub.execute_input": "2022-12-20T09:57:59.209962Z",
     "iopub.status.busy": "2022-12-20T09:57:59.209531Z",
     "iopub.status.idle": "2022-12-20T09:57:59.673737Z",
     "shell.execute_reply": "2022-12-20T09:57:59.672541Z"
    },
    "papermill": {
     "duration": 0.490207,
     "end_time": "2022-12-20T09:57:59.676267",
     "exception": false,
     "start_time": "2022-12-20T09:57:59.186060",
     "status": "completed"
    },
    "tags": []
   },
   "outputs": [
    {
     "data": {
      "image/png": "[encoded data removed]",
      "text/plain": [
       "<Figure size 720x432 with 1 Axes>"
      ]
     },
     "execution_count": 46,
     "metadata": {},
     "output_type": "execute_result"
    },
    {
     "data": {
      "image/png": "[encoded data removed]",
      "text/plain": [
       "<Figure size 720x432 with 1 Axes>"
      ]
     },
     "metadata": {},
     "output_type": "display_data"
    }
   ],
   "source": [
    "model.plot(prediction_india)"
   ]
  },
  {
   "cell_type": "code",
   "execution_count": 47,
   "id": "5aff491c",
   "metadata": {
    "execution": {
     "iopub.execute_input": "2022-12-20T09:57:59.723923Z",
     "iopub.status.busy": "2022-12-20T09:57:59.723536Z",
     "iopub.status.idle": "2022-12-20T09:58:00.469793Z",
     "shell.execute_reply": "2022-12-20T09:58:00.468831Z"
    },
    "papermill": {
     "duration": 0.772756,
     "end_time": "2022-12-20T09:58:00.472241",
     "exception": false,
     "start_time": "2022-12-20T09:57:59.699485",
     "status": "completed"
    },
    "tags": []
   },
   "outputs": [
    {
     "data": {
      "image/png": "[encoded data removed]",
      "text/plain": [
       "<Figure size 648x432 with 2 Axes>"
      ]
     },
     "execution_count": 47,
     "metadata": {},
     "output_type": "execute_result"
    },
    {
     "data": {
      "image/png": "[encoded data removed]",
      "text/plain": [
       "<Figure size 648x432 with 2 Axes>"
      ]
     },
     "metadata": {},
     "output_type": "display_data"
    }
   ],
   "source": [
    "model.plot_components(prediction_india)"
   ]
  },
  {
   "cell_type": "code",
   "execution_count": 48,
   "id": "4712687e",
   "metadata": {
    "execution": {
     "iopub.execute_input": "2022-12-20T09:58:00.522063Z",
     "iopub.status.busy": "2022-12-20T09:58:00.521678Z",
     "iopub.status.idle": "2022-12-20T09:58:04.121104Z",
     "shell.execute_reply": "2022-12-20T09:58:04.120213Z"
    },
    "papermill": {
     "duration": 3.626986,
     "end_time": "2022-12-20T09:58:04.123396",
     "exception": false,
     "start_time": "2022-12-20T09:58:00.496410",
     "status": "completed"
    },
    "tags": []
   },
   "outputs": [
    {
     "data": {
      "application/vnd.jupyter.widget-view+json": {
       "model_id": "82a134a515e047a68d0055046adfd89b",
       "version_major": 2,
       "version_minor": 0
      },
      "text/plain": [
       "  0%|          | 0/5 [00:00<?, ?it/s]"
      ]
     },
     "metadata": {},
     "output_type": "display_data"
    },
    {
     "name": "stderr",
     "output_type": "stream",
     "text": [
      "09:58:00 - cmdstanpy - INFO - Chain [1] start processing\n",
      "09:58:00 - cmdstanpy - INFO - Chain [1] done processing\n",
      "09:58:01 - cmdstanpy - INFO - Chain [1] start processing\n",
      "09:58:01 - cmdstanpy - INFO - Chain [1] done processing\n",
      "09:58:02 - cmdstanpy - INFO - Chain [1] start processing\n",
      "09:58:02 - cmdstanpy - INFO - Chain [1] done processing\n",
      "09:58:02 - cmdstanpy - INFO - Chain [1] start processing\n",
      "09:58:02 - cmdstanpy - INFO - Chain [1] done processing\n",
      "09:58:03 - cmdstanpy - INFO - Chain [1] start processing\n",
      "09:58:03 - cmdstanpy - INFO - Chain [1] done processing\n"
     ]
    }
   ],
   "source": [
    "data_india_cv = cross_validation(model,horizon='30 days',period='15 days',initial='90 days')"
   ]
  },
  {
   "cell_type": "code",
   "execution_count": 49,
   "id": "d63edb38",
   "metadata": {
    "execution": {
     "iopub.execute_input": "2022-12-20T09:58:04.175891Z",
     "iopub.status.busy": "2022-12-20T09:58:04.174682Z",
     "iopub.status.idle": "2022-12-20T09:58:04.192122Z",
     "shell.execute_reply": "2022-12-20T09:58:04.191006Z"
    },
    "papermill": {
     "duration": 0.046213,
     "end_time": "2022-12-20T09:58:04.194766",
     "exception": false,
     "start_time": "2022-12-20T09:58:04.148553",
     "status": "completed"
    },
    "tags": []
   },
   "outputs": [
    {
     "data": {
      "text/html": [
       "<div>\n",
       "<style scoped>\n",
       "    .dataframe tbody tr th:only-of-type {\n",
       "        vertical-align: middle;\n",
       "    }\n",
       "\n",
       "    .dataframe tbody tr th {\n",
       "        vertical-align: top;\n",
       "    }\n",
       "\n",
       "    .dataframe thead th {\n",
       "        text-align: right;\n",
       "    }\n",
       "</style>\n",
       "<table border=\"1\" class=\"dataframe\">\n",
       "  <thead>\n",
       "    <tr style=\"text-align: right;\">\n",
       "      <th></th>\n",
       "      <th>ds</th>\n",
       "      <th>yhat</th>\n",
       "      <th>yhat_lower</th>\n",
       "      <th>yhat_upper</th>\n",
       "      <th>y</th>\n",
       "      <th>cutoff</th>\n",
       "    </tr>\n",
       "  </thead>\n",
       "  <tbody>\n",
       "    <tr>\n",
       "      <th>0</th>\n",
       "      <td>2020-04-29</td>\n",
       "      <td>30540.357905</td>\n",
       "      <td>29977.881382</td>\n",
       "      <td>31148.410941</td>\n",
       "      <td>33062</td>\n",
       "      <td>2020-04-28</td>\n",
       "    </tr>\n",
       "    <tr>\n",
       "      <th>1</th>\n",
       "      <td>2020-04-30</td>\n",
       "      <td>31773.499719</td>\n",
       "      <td>31203.190496</td>\n",
       "      <td>32356.602289</td>\n",
       "      <td>34863</td>\n",
       "      <td>2020-04-28</td>\n",
       "    </tr>\n",
       "    <tr>\n",
       "      <th>2</th>\n",
       "      <td>2020-05-01</td>\n",
       "      <td>32949.548824</td>\n",
       "      <td>32376.579483</td>\n",
       "      <td>33517.313011</td>\n",
       "      <td>37257</td>\n",
       "      <td>2020-04-28</td>\n",
       "    </tr>\n",
       "    <tr>\n",
       "      <th>3</th>\n",
       "      <td>2020-05-02</td>\n",
       "      <td>34211.513535</td>\n",
       "      <td>33601.241076</td>\n",
       "      <td>34832.588154</td>\n",
       "      <td>39699</td>\n",
       "      <td>2020-04-28</td>\n",
       "    </tr>\n",
       "    <tr>\n",
       "      <th>4</th>\n",
       "      <td>2020-05-03</td>\n",
       "      <td>35487.026408</td>\n",
       "      <td>34832.438966</td>\n",
       "      <td>36086.314818</td>\n",
       "      <td>42505</td>\n",
       "      <td>2020-04-28</td>\n",
       "    </tr>\n",
       "  </tbody>\n",
       "</table>\n",
       "</div>"
      ],
      "text/plain": [
       "          ds          yhat    yhat_lower    yhat_upper      y     cutoff\n",
       "0 2020-04-29  30540.357905  29977.881382  31148.410941  33062 2020-04-28\n",
       "1 2020-04-30  31773.499719  31203.190496  32356.602289  34863 2020-04-28\n",
       "2 2020-05-01  32949.548824  32376.579483  33517.313011  37257 2020-04-28\n",
       "3 2020-05-02  34211.513535  33601.241076  34832.588154  39699 2020-04-28\n",
       "4 2020-05-03  35487.026408  34832.438966  36086.314818  42505 2020-04-28"
      ]
     },
     "execution_count": 49,
     "metadata": {},
     "output_type": "execute_result"
    }
   ],
   "source": [
    "data_india_cv.head()"
   ]
  },
  {
   "cell_type": "code",
   "execution_count": 50,
   "id": "76804ac4",
   "metadata": {
    "execution": {
     "iopub.execute_input": "2022-12-20T09:58:04.246999Z",
     "iopub.status.busy": "2022-12-20T09:58:04.246599Z",
     "iopub.status.idle": "2022-12-20T09:58:04.593536Z",
     "shell.execute_reply": "2022-12-20T09:58:04.592260Z"
    },
    "papermill": {
     "duration": 0.376106,
     "end_time": "2022-12-20T09:58:04.596043",
     "exception": false,
     "start_time": "2022-12-20T09:58:04.219937",
     "status": "completed"
    },
    "tags": []
   },
   "outputs": [
    {
     "data": {
      "image/png": "[encoded data removed]",
      "text/plain": [
       "<Figure size 720x432 with 1 Axes>"
      ]
     },
     "metadata": {},
     "output_type": "display_data"
    }
   ],
   "source": [
    "fig=model.plot(prediction_india)\n",
    "a_india = add_changepoints_to_plot(fig.gca(),model,prediction_india)"
   ]
  },
  {
   "cell_type": "code",
   "execution_count": 51,
   "id": "944c0a88",
   "metadata": {
    "execution": {
     "iopub.execute_input": "2022-12-20T09:58:04.649732Z",
     "iopub.status.busy": "2022-12-20T09:58:04.649011Z",
     "iopub.status.idle": "2022-12-20T09:58:04.775869Z",
     "shell.execute_reply": "2022-12-20T09:58:04.774549Z"
    },
    "papermill": {
     "duration": 0.156786,
     "end_time": "2022-12-20T09:58:04.778606",
     "exception": false,
     "start_time": "2022-12-20T09:58:04.621820",
     "status": "completed"
    },
    "tags": []
   },
   "outputs": [
    {
     "data": {
      "text/html": [
       "<div>\n",
       "<style scoped>\n",
       "    .dataframe tbody tr th:only-of-type {\n",
       "        vertical-align: middle;\n",
       "    }\n",
       "\n",
       "    .dataframe tbody tr th {\n",
       "        vertical-align: top;\n",
       "    }\n",
       "\n",
       "    .dataframe thead th {\n",
       "        text-align: right;\n",
       "    }\n",
       "</style>\n",
       "<table border=\"1\" class=\"dataframe\">\n",
       "  <thead>\n",
       "    <tr style=\"text-align: right;\">\n",
       "      <th></th>\n",
       "      <th>horizon</th>\n",
       "      <th>mse</th>\n",
       "      <th>rmse</th>\n",
       "      <th>mae</th>\n",
       "      <th>mape</th>\n",
       "      <th>mdape</th>\n",
       "      <th>smape</th>\n",
       "      <th>coverage</th>\n",
       "    </tr>\n",
       "  </thead>\n",
       "  <tbody>\n",
       "    <tr>\n",
       "      <th>0</th>\n",
       "      <td>3 days</td>\n",
       "      <td>8.865722e+08</td>\n",
       "      <td>29775.362113</td>\n",
       "      <td>23639.893467</td>\n",
       "      <td>0.103332</td>\n",
       "      <td>0.100834</td>\n",
       "      <td>0.109199</td>\n",
       "      <td>0.0</td>\n",
       "    </tr>\n",
       "    <tr>\n",
       "      <th>1</th>\n",
       "      <td>4 days</td>\n",
       "      <td>1.151182e+09</td>\n",
       "      <td>33929.071950</td>\n",
       "      <td>27201.283843</td>\n",
       "      <td>0.117179</td>\n",
       "      <td>0.116349</td>\n",
       "      <td>0.124790</td>\n",
       "      <td>0.0</td>\n",
       "    </tr>\n",
       "    <tr>\n",
       "      <th>2</th>\n",
       "      <td>5 days</td>\n",
       "      <td>1.484432e+09</td>\n",
       "      <td>38528.331231</td>\n",
       "      <td>31136.790322</td>\n",
       "      <td>0.132176</td>\n",
       "      <td>0.133205</td>\n",
       "      <td>0.141933</td>\n",
       "      <td>0.0</td>\n",
       "    </tr>\n",
       "    <tr>\n",
       "      <th>3</th>\n",
       "      <td>6 days</td>\n",
       "      <td>1.928463e+09</td>\n",
       "      <td>43914.263291</td>\n",
       "      <td>35747.694189</td>\n",
       "      <td>0.149044</td>\n",
       "      <td>0.144063</td>\n",
       "      <td>0.161692</td>\n",
       "      <td>0.0</td>\n",
       "    </tr>\n",
       "    <tr>\n",
       "      <th>4</th>\n",
       "      <td>7 days</td>\n",
       "      <td>2.528432e+09</td>\n",
       "      <td>50283.513453</td>\n",
       "      <td>41159.557690</td>\n",
       "      <td>0.166833</td>\n",
       "      <td>0.165109</td>\n",
       "      <td>0.182875</td>\n",
       "      <td>0.0</td>\n",
       "    </tr>\n",
       "  </tbody>\n",
       "</table>\n",
       "</div>"
      ],
      "text/plain": [
       "  horizon           mse          rmse           mae      mape     mdape  \\\n",
       "0  3 days  8.865722e+08  29775.362113  23639.893467  0.103332  0.100834   \n",
       "1  4 days  1.151182e+09  33929.071950  27201.283843  0.117179  0.116349   \n",
       "2  5 days  1.484432e+09  38528.331231  31136.790322  0.132176  0.133205   \n",
       "3  6 days  1.928463e+09  43914.263291  35747.694189  0.149044  0.144063   \n",
       "4  7 days  2.528432e+09  50283.513453  41159.557690  0.166833  0.165109   \n",
       "\n",
       "      smape  coverage  \n",
       "0  0.109199       0.0  \n",
       "1  0.124790       0.0  \n",
       "2  0.141933       0.0  \n",
       "3  0.161692       0.0  \n",
       "4  0.182875       0.0  "
      ]
     },
     "execution_count": 51,
     "metadata": {},
     "output_type": "execute_result"
    }
   ],
   "source": [
    "data_india_perf = performance_metrics(data_india_cv)\n",
    "data_india_perf.head()"
   ]
  },
  {
   "cell_type": "code",
   "execution_count": 52,
   "id": "b472d264",
   "metadata": {
    "execution": {
     "iopub.execute_input": "2022-12-20T09:58:04.832430Z",
     "iopub.status.busy": "2022-12-20T09:58:04.832053Z",
     "iopub.status.idle": "2022-12-20T09:58:05.246892Z",
     "shell.execute_reply": "2022-12-20T09:58:05.245827Z"
    },
    "papermill": {
     "duration": 0.444592,
     "end_time": "2022-12-20T09:58:05.249289",
     "exception": false,
     "start_time": "2022-12-20T09:58:04.804697",
     "status": "completed"
    },
    "tags": []
   },
   "outputs": [
    {
     "name": "stderr",
     "output_type": "stream",
     "text": [
      "/opt/conda/lib/python3.7/site-packages/prophet/plot.py:544: FutureWarning: casting timedelta64[ns] values to int64 with .astype(...) is deprecated and will raise in a future version. Use .view(...) instead.\n",
      "  x_plt = df_none['horizon'].astype('timedelta64[ns]').astype(np.int64) / float(dt_conversions[i])\n",
      "/opt/conda/lib/python3.7/site-packages/prophet/plot.py:545: FutureWarning: casting timedelta64[ns] values to int64 with .astype(...) is deprecated and will raise in a future version. Use .view(...) instead.\n",
      "  x_plt_h = df_h['horizon'].astype('timedelta64[ns]').astype(np.int64) / float(dt_conversions[i])\n"
     ]
    },
    {
     "data": {
      "image/png": "[encoded data removed]",
      "text/plain": [
       "<Figure size 720x432 with 1 Axes>"
      ]
     },
     "execution_count": 52,
     "metadata": {},
     "output_type": "execute_result"
    },
    {
     "data": {
      "image/png": "[encoded data removed]",
      "text/plain": [
       "<Figure size 720x432 with 1 Axes>"
      ]
     },
     "metadata": {},
     "output_type": "display_data"
    }
   ],
   "source": [
    "plot_cross_validation_metric(data_india_cv,metric='rmse')"
   ]
  },
  {
   "cell_type": "code",
   "execution_count": null,
   "id": "ea111b42",
   "metadata": {
    "papermill": {
     "duration": 0.026359,
     "end_time": "2022-12-20T09:58:05.302522",
     "exception": false,
     "start_time": "2022-12-20T09:58:05.276163",
     "status": "completed"
    },
    "tags": []
   },
   "outputs": [],
   "source": []
  }
 ],
 "metadata": {
  "kernelspec": {
   "display_name": "Python 3",
   "language": "python",
   "name": "python3"
  },
  "language_info": {
   "codemirror_mode": {
    "name": "ipython",
    "version": 3
   },
   "file_extension": ".py",
   "mimetype": "text/x-python",
   "name": "python",
   "nbconvert_exporter": "python",
   "pygments_lexer": "ipython3",
   "version": "3.7.12"
  },
  "papermill": {
   "default_parameters": {},
   "duration": 27.635605,
   "end_time": "2022-12-20T09:58:06.252864",
   "environment_variables": {},
   "exception": null,
   "input_path": "__notebook__.ipynb",
   "output_path": "__notebook__.ipynb",
   "parameters": {},
   "start_time": "2022-12-20T09:57:38.617259",
   "version": "2.3.4"
  },
  "widgets": {
   "application/vnd.jupyter.widget-state+json": {
    "state": {
     "0dcdcd7b81434da5a1a25344489a12e2": {
      "model_module": "@jupyter-widgets/base",
      "model_module_version": "1.2.0",
      "model_name": "LayoutModel",
      "state": {
       "_model_module": "@jupyter-widgets/base",
       "_model_module_version": "1.2.0",
       "_model_name": "LayoutModel",
       "_view_count": null,
       "_view_module": "@jupyter-widgets/base",
       "_view_module_version": "1.2.0",
       "_view_name": "LayoutView",
       "align_content": null,
       "align_items": null,
       "align_self": null,
       "border": null,
       "bottom": null,
       "display": null,
       "flex": null,
       "flex_flow": null,
       "grid_area": null,
       "grid_auto_columns": null,
       "grid_auto_flow": null,
       "grid_auto_rows": null,
       "grid_column": null,
       "grid_gap": null,
       "grid_row": null,
       "grid_template_areas": null,
       "grid_template_columns": null,
       "grid_template_rows": null,
       "height": null,
       "justify_content": null,
       "justify_items": null,
       "left": null,
       "margin": null,
       "max_height": null,
       "max_width": null,
       "min_height": null,
       "min_width": null,
       "object_fit": null,
       "object_position": null,
       "order": null,
       "overflow": null,
       "overflow_x": null,
       "overflow_y": null,
       "padding": null,
       "right": null,
       "top": null,
       "visibility": null,
       "width": null
      }
     },
     "0edb2be984824ed6b613e3b7aac90909": {
      "model_module": "@jupyter-widgets/base",
      "model_module_version": "1.2.0",
      "model_name": "LayoutModel",
      "state": {
       "_model_module": "@jupyter-widgets/base",
       "_model_module_version": "1.2.0",
       "_model_name": "LayoutModel",
       "_view_count": null,
       "_view_module": "@jupyter-widgets/base",
       "_view_module_version": "1.2.0",
       "_view_name": "LayoutView",
       "align_content": null,
       "align_items": null,
       "align_self": null,
       "border": null,
       "bottom": null,
       "display": null,
       "flex": null,
       "flex_flow": null,
       "grid_area": null,
       "grid_auto_columns": null,
       "grid_auto_flow": null,
       "grid_auto_rows": null,
       "grid_column": null,
       "grid_gap": null,
       "grid_row": null,
       "grid_template_areas": null,
       "grid_template_columns": null,
       "grid_template_rows": null,
       "height": null,
       "justify_content": null,
       "justify_items": null,
       "left": null,
       "margin": null,
       "max_height": null,
       "max_width": null,
       "min_height": null,
       "min_width": null,
       "object_fit": null,
       "object_position": null,
       "order": null,
       "overflow": null,
       "overflow_x": null,
       "overflow_y": null,
       "padding": null,
       "right": null,
       "top": null,
       "visibility": null,
       "width": null
      }
     },
     "11c415f008eb44d0a06b6fbddce6895a": {
      "model_module": "@jupyter-widgets/controls",
      "model_module_version": "1.5.0",
      "model_name": "HTMLModel",
      "state": {
       "_dom_classes": [],
       "_model_module": "@jupyter-widgets/controls",
       "_model_module_version": "1.5.0",
       "_model_name": "HTMLModel",
       "_view_count": null,
       "_view_module": "@jupyter-widgets/controls",
       "_view_module_version": "1.5.0",
       "_view_name": "HTMLView",
       "description": "",
       "description_tooltip": null,
       "layout": "IPY_MODEL_3bedd276b9414728ada3e6ff4e5060b8",
       "placeholder": "​",
       "style": "IPY_MODEL_45e6a33637c348d2ada3990b9604f390",
       "value": " 5/5 [00:03&lt;00:00,  1.46it/s]"
      }
     },
     "37bbe9f92cf0469c923105980ea8ddb1": {
      "model_module": "@jupyter-widgets/base",
      "model_module_version": "1.2.0",
      "model_name": "LayoutModel",
      "state": {
       "_model_module": "@jupyter-widgets/base",
       "_model_module_version": "1.2.0",
       "_model_name": "LayoutModel",
       "_view_count": null,
       "_view_module": "@jupyter-widgets/base",
       "_view_module_version": "1.2.0",
       "_view_name": "LayoutView",
       "align_content": null,
       "align_items": null,
       "align_self": null,
       "border": null,
       "bottom": null,
       "display": null,
       "flex": null,
       "flex_flow": null,
       "grid_area": null,
       "grid_auto_columns": null,
       "grid_auto_flow": null,
       "grid_auto_rows": null,
       "grid_column": null,
       "grid_gap": null,
       "grid_row": null,
       "grid_template_areas": null,
       "grid_template_columns": null,
       "grid_template_rows": null,
       "height": null,
       "justify_content": null,
       "justify_items": null,
       "left": null,
       "margin": null,
       "max_height": null,
       "max_width": null,
       "min_height": null,
       "min_width": null,
       "object_fit": null,
       "object_position": null,
       "order": null,
       "overflow": null,
       "overflow_x": null,
       "overflow_y": null,
       "padding": null,
       "right": null,
       "top": null,
       "visibility": null,
       "width": null
      }
     },
     "3a3177a4be6b49a290585e8096d6ac7f": {
      "model_module": "@jupyter-widgets/controls",
      "model_module_version": "1.5.0",
      "model_name": "HTMLModel",
      "state": {
       "_dom_classes": [],
       "_model_module": "@jupyter-widgets/controls",
       "_model_module_version": "1.5.0",
       "_model_name": "HTMLModel",
       "_view_count": null,
       "_view_module": "@jupyter-widgets/controls",
       "_view_module_version": "1.5.0",
       "_view_name": "HTMLView",
       "description": "",
       "description_tooltip": null,
       "layout": "IPY_MODEL_0edb2be984824ed6b613e3b7aac90909",
       "placeholder": "​",
       "style": "IPY_MODEL_dd8275f06af1400f9a71aa3934d79e8a",
       "value": "100%"
      }
     },
     "3bedd276b9414728ada3e6ff4e5060b8": {
      "model_module": "@jupyter-widgets/base",
      "model_module_version": "1.2.0",
      "model_name": "LayoutModel",
      "state": {
       "_model_module": "@jupyter-widgets/base",
       "_model_module_version": "1.2.0",
       "_model_name": "LayoutModel",
       "_view_count": null,
       "_view_module": "@jupyter-widgets/base",
       "_view_module_version": "1.2.0",
       "_view_name": "LayoutView",
       "align_content": null,
       "align_items": null,
       "align_self": null,
       "border": null,
       "bottom": null,
       "display": null,
       "flex": null,
       "flex_flow": null,
       "grid_area": null,
       "grid_auto_columns": null,
       "grid_auto_flow": null,
       "grid_auto_rows": null,
       "grid_column": null,
       "grid_gap": null,
       "grid_row": null,
       "grid_template_areas": null,
       "grid_template_columns": null,
       "grid_template_rows": null,
       "height": null,
       "justify_content": null,
       "justify_items": null,
       "left": null,
       "margin": null,
       "max_height": null,
       "max_width": null,
       "min_height": null,
       "min_width": null,
       "object_fit": null,
       "object_position": null,
       "order": null,
       "overflow": null,
       "overflow_x": null,
       "overflow_y": null,
       "padding": null,
       "right": null,
       "top": null,
       "visibility": null,
       "width": null
      }
     },
     "3d27dbbb06ab4a9580ca555b09cf5df1": {
      "model_module": "@jupyter-widgets/base",
      "model_module_version": "1.2.0",
      "model_name": "LayoutModel",
      "state": {
       "_model_module": "@jupyter-widgets/base",
       "_model_module_version": "1.2.0",
       "_model_name": "LayoutModel",
       "_view_count": null,
       "_view_module": "@jupyter-widgets/base",
       "_view_module_version": "1.2.0",
       "_view_name": "LayoutView",
       "align_content": null,
       "align_items": null,
       "align_self": null,
       "border": null,
       "bottom": null,
       "display": null,
       "flex": null,
       "flex_flow": null,
       "grid_area": null,
       "grid_auto_columns": null,
       "grid_auto_flow": null,
       "grid_auto_rows": null,
       "grid_column": null,
       "grid_gap": null,
       "grid_row": null,
       "grid_template_areas": null,
       "grid_template_columns": null,
       "grid_template_rows": null,
       "height": null,
       "justify_content": null,
       "justify_items": null,
       "left": null,
       "margin": null,
       "max_height": null,
       "max_width": null,
       "min_height": null,
       "min_width": null,
       "object_fit": null,
       "object_position": null,
       "order": null,
       "overflow": null,
       "overflow_x": null,
       "overflow_y": null,
       "padding": null,
       "right": null,
       "top": null,
       "visibility": null,
       "width": null
      }
     },
     "3e2d8749628245fcb8cd38a7048def2f": {
      "model_module": "@jupyter-widgets/controls",
      "model_module_version": "1.5.0",
      "model_name": "DescriptionStyleModel",
      "state": {
       "_model_module": "@jupyter-widgets/controls",
       "_model_module_version": "1.5.0",
       "_model_name": "DescriptionStyleModel",
       "_view_count": null,
       "_view_module": "@jupyter-widgets/base",
       "_view_module_version": "1.2.0",
       "_view_name": "StyleView",
       "description_width": ""
      }
     },
     "4347f2a0ae5c4dd49724243126227491": {
      "model_module": "@jupyter-widgets/controls",
      "model_module_version": "1.5.0",
      "model_name": "FloatProgressModel",
      "state": {
       "_dom_classes": [],
       "_model_module": "@jupyter-widgets/controls",
       "_model_module_version": "1.5.0",
       "_model_name": "FloatProgressModel",
       "_view_count": null,
       "_view_module": "@jupyter-widgets/controls",
       "_view_module_version": "1.5.0",
       "_view_name": "ProgressView",
       "bar_style": "success",
       "description": "",
       "description_tooltip": null,
       "layout": "IPY_MODEL_794931d2e4a343a0b4cdb0b8faf1a157",
       "max": 5,
       "min": 0,
       "orientation": "horizontal",
       "style": "IPY_MODEL_a089746ca8d84c79977602cb706ff4e1",
       "value": 5
      }
     },
     "45e6a33637c348d2ada3990b9604f390": {
      "model_module": "@jupyter-widgets/controls",
      "model_module_version": "1.5.0",
      "model_name": "DescriptionStyleModel",
      "state": {
       "_model_module": "@jupyter-widgets/controls",
       "_model_module_version": "1.5.0",
       "_model_name": "DescriptionStyleModel",
       "_view_count": null,
       "_view_module": "@jupyter-widgets/base",
       "_view_module_version": "1.2.0",
       "_view_name": "StyleView",
       "description_width": ""
      }
     },
     "794931d2e4a343a0b4cdb0b8faf1a157": {
      "model_module": "@jupyter-widgets/base",
      "model_module_version": "1.2.0",
      "model_name": "LayoutModel",
      "state": {
       "_model_module": "@jupyter-widgets/base",
       "_model_module_version": "1.2.0",
       "_model_name": "LayoutModel",
       "_view_count": null,
       "_view_module": "@jupyter-widgets/base",
       "_view_module_version": "1.2.0",
       "_view_name": "LayoutView",
       "align_content": null,
       "align_items": null,
       "align_self": null,
       "border": null,
       "bottom": null,
       "display": null,
       "flex": null,
       "flex_flow": null,
       "grid_area": null,
       "grid_auto_columns": null,
       "grid_auto_flow": null,
       "grid_auto_rows": null,
       "grid_column": null,
       "grid_gap": null,
       "grid_row": null,
       "grid_template_areas": null,
       "grid_template_columns": null,
       "grid_template_rows": null,
       "height": null,
       "justify_content": null,
       "justify_items": null,
       "left": null,
       "margin": null,
       "max_height": null,
       "max_width": null,
       "min_height": null,
       "min_width": null,
       "object_fit": null,
       "object_position": null,
       "order": null,
       "overflow": null,
       "overflow_x": null,
       "overflow_y": null,
       "padding": null,
       "right": null,
       "top": null,
       "visibility": null,
       "width": null
      }
     },
     "82a134a515e047a68d0055046adfd89b": {
      "model_module": "@jupyter-widgets/controls",
      "model_module_version": "1.5.0",
      "model_name": "HBoxModel",
      "state": {
       "_dom_classes": [],
       "_model_module": "@jupyter-widgets/controls",
       "_model_module_version": "1.5.0",
       "_model_name": "HBoxModel",
       "_view_count": null,
       "_view_module": "@jupyter-widgets/controls",
       "_view_module_version": "1.5.0",
       "_view_name": "HBoxView",
       "box_style": "",
       "children": [
        "IPY_MODEL_993f98f1a6fb4f659a78a4016fbf75d6",
        "IPY_MODEL_4347f2a0ae5c4dd49724243126227491",
        "IPY_MODEL_11c415f008eb44d0a06b6fbddce6895a"
       ],
       "layout": "IPY_MODEL_0dcdcd7b81434da5a1a25344489a12e2"
      }
     },
     "993f98f1a6fb4f659a78a4016fbf75d6": {
      "model_module": "@jupyter-widgets/controls",
      "model_module_version": "1.5.0",
      "model_name": "HTMLModel",
      "state": {
       "_dom_classes": [],
       "_model_module": "@jupyter-widgets/controls",
       "_model_module_version": "1.5.0",
       "_model_name": "HTMLModel",
       "_view_count": null,
       "_view_module": "@jupyter-widgets/controls",
       "_view_module_version": "1.5.0",
       "_view_name": "HTMLView",
       "description": "",
       "description_tooltip": null,
       "layout": "IPY_MODEL_c33d0196a8f24f3e90adb5cadc612b0c",
       "placeholder": "​",
       "style": "IPY_MODEL_3e2d8749628245fcb8cd38a7048def2f",
       "value": "100%"
      }
     },
     "a089746ca8d84c79977602cb706ff4e1": {
      "model_module": "@jupyter-widgets/controls",
      "model_module_version": "1.5.0",
      "model_name": "ProgressStyleModel",
      "state": {
       "_model_module": "@jupyter-widgets/controls",
       "_model_module_version": "1.5.0",
       "_model_name": "ProgressStyleModel",
       "_view_count": null,
       "_view_module": "@jupyter-widgets/base",
       "_view_module_version": "1.2.0",
       "_view_name": "StyleView",
       "bar_color": null,
       "description_width": ""
      }
     },
     "a2260a665cef4911a04310351e11b2c9": {
      "model_module": "@jupyter-widgets/controls",
      "model_module_version": "1.5.0",
      "model_name": "HTMLModel",
      "state": {
       "_dom_classes": [],
       "_model_module": "@jupyter-widgets/controls",
       "_model_module_version": "1.5.0",
       "_model_name": "HTMLModel",
       "_view_count": null,
       "_view_module": "@jupyter-widgets/controls",
       "_view_module_version": "1.5.0",
       "_view_name": "HTMLView",
       "description": "",
       "description_tooltip": null,
       "layout": "IPY_MODEL_df010bc1f29947e5be36f8e28f24cb7b",
       "placeholder": "​",
       "style": "IPY_MODEL_e29cc5d39ce343c299e554c59b3ff644",
       "value": " 5/5 [00:03&lt;00:00,  1.35it/s]"
      }
     },
     "b8e5b3ac867949199f3f896d3b3e58f5": {
      "model_module": "@jupyter-widgets/controls",
      "model_module_version": "1.5.0",
      "model_name": "FloatProgressModel",
      "state": {
       "_dom_classes": [],
       "_model_module": "@jupyter-widgets/controls",
       "_model_module_version": "1.5.0",
       "_model_name": "FloatProgressModel",
       "_view_count": null,
       "_view_module": "@jupyter-widgets/controls",
       "_view_module_version": "1.5.0",
       "_view_name": "ProgressView",
       "bar_style": "success",
       "description": "",
       "description_tooltip": null,
       "layout": "IPY_MODEL_37bbe9f92cf0469c923105980ea8ddb1",
       "max": 5,
       "min": 0,
       "orientation": "horizontal",
       "style": "IPY_MODEL_bb74ccd034b34ac29c24e84ef69dfa69",
       "value": 5
      }
     },
     "bb74ccd034b34ac29c24e84ef69dfa69": {
      "model_module": "@jupyter-widgets/controls",
      "model_module_version": "1.5.0",
      "model_name": "ProgressStyleModel",
      "state": {
       "_model_module": "@jupyter-widgets/controls",
       "_model_module_version": "1.5.0",
       "_model_name": "ProgressStyleModel",
       "_view_count": null,
       "_view_module": "@jupyter-widgets/base",
       "_view_module_version": "1.2.0",
       "_view_name": "StyleView",
       "bar_color": null,
       "description_width": ""
      }
     },
     "c33d0196a8f24f3e90adb5cadc612b0c": {
      "model_module": "@jupyter-widgets/base",
      "model_module_version": "1.2.0",
      "model_name": "LayoutModel",
      "state": {
       "_model_module": "@jupyter-widgets/base",
       "_model_module_version": "1.2.0",
       "_model_name": "LayoutModel",
       "_view_count": null,
       "_view_module": "@jupyter-widgets/base",
       "_view_module_version": "1.2.0",
       "_view_name": "LayoutView",
       "align_content": null,
       "align_items": null,
       "align_self": null,
       "border": null,
       "bottom": null,
       "display": null,
       "flex": null,
       "flex_flow": null,
       "grid_area": null,
       "grid_auto_columns": null,
       "grid_auto_flow": null,
       "grid_auto_rows": null,
       "grid_column": null,
       "grid_gap": null,
       "grid_row": null,
       "grid_template_areas": null,
       "grid_template_columns": null,
       "grid_template_rows": null,
       "height": null,
       "justify_content": null,
       "justify_items": null,
       "left": null,
       "margin": null,
       "max_height": null,
       "max_width": null,
       "min_height": null,
       "min_width": null,
       "object_fit": null,
       "object_position": null,
       "order": null,
       "overflow": null,
       "overflow_x": null,
       "overflow_y": null,
       "padding": null,
       "right": null,
       "top": null,
       "visibility": null,
       "width": null
      }
     },
     "dd8275f06af1400f9a71aa3934d79e8a": {
      "model_module": "@jupyter-widgets/controls",
      "model_module_version": "1.5.0",
      "model_name": "DescriptionStyleModel",
      "state": {
       "_model_module": "@jupyter-widgets/controls",
       "_model_module_version": "1.5.0",
       "_model_name": "DescriptionStyleModel",
       "_view_count": null,
       "_view_module": "@jupyter-widgets/base",
       "_view_module_version": "1.2.0",
       "_view_name": "StyleView",
       "description_width": ""
      }
     },
     "df010bc1f29947e5be36f8e28f24cb7b": {
      "model_module": "@jupyter-widgets/base",
      "model_module_version": "1.2.0",
      "model_name": "LayoutModel",
      "state": {
       "_model_module": "@jupyter-widgets/base",
       "_model_module_version": "1.2.0",
       "_model_name": "LayoutModel",
       "_view_count": null,
       "_view_module": "@jupyter-widgets/base",
       "_view_module_version": "1.2.0",
       "_view_name": "LayoutView",
       "align_content": null,
       "align_items": null,
       "align_self": null,
       "border": null,
       "bottom": null,
       "display": null,
       "flex": null,
       "flex_flow": null,
       "grid_area": null,
       "grid_auto_columns": null,
       "grid_auto_flow": null,
       "grid_auto_rows": null,
       "grid_column": null,
       "grid_gap": null,
       "grid_row": null,
       "grid_template_areas": null,
       "grid_template_columns": null,
       "grid_template_rows": null,
       "height": null,
       "justify_content": null,
       "justify_items": null,
       "left": null,
       "margin": null,
       "max_height": null,
       "max_width": null,
       "min_height": null,
       "min_width": null,
       "object_fit": null,
       "object_position": null,
       "order": null,
       "overflow": null,
       "overflow_x": null,
       "overflow_y": null,
       "padding": null,
       "right": null,
       "top": null,
       "visibility": null,
       "width": null
      }
     },
     "e29cc5d39ce343c299e554c59b3ff644": {
      "model_module": "@jupyter-widgets/controls",
      "model_module_version": "1.5.0",
      "model_name": "DescriptionStyleModel",
      "state": {
       "_model_module": "@jupyter-widgets/controls",
       "_model_module_version": "1.5.0",
       "_model_name": "DescriptionStyleModel",
       "_view_count": null,
       "_view_module": "@jupyter-widgets/base",
       "_view_module_version": "1.2.0",
       "_view_name": "StyleView",
       "description_width": ""
      }
     },
     "f191bd341e2a41158a44c7a363b94643": {
      "model_module": "@jupyter-widgets/controls",
      "model_module_version": "1.5.0",
      "model_name": "HBoxModel",
      "state": {
       "_dom_classes": [],
       "_model_module": "@jupyter-widgets/controls",
       "_model_module_version": "1.5.0",
       "_model_name": "HBoxModel",
       "_view_count": null,
       "_view_module": "@jupyter-widgets/controls",
       "_view_module_version": "1.5.0",
       "_view_name": "HBoxView",
       "box_style": "",
       "children": [
        "IPY_MODEL_3a3177a4be6b49a290585e8096d6ac7f",
        "IPY_MODEL_b8e5b3ac867949199f3f896d3b3e58f5",
        "IPY_MODEL_a2260a665cef4911a04310351e11b2c9"
       ],
       "layout": "IPY_MODEL_3d27dbbb06ab4a9580ca555b09cf5df1"
      }
     }
    },
    "version_major": 2,
    "version_minor": 0
   }
  }
 },
 "nbformat": 4,
 "nbformat_minor": 5
}
